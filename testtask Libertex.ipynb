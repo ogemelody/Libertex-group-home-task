{
 "cells": [
  {
   "attachments": {
    "libertex.png": {
     "image/png": "[encoded data removed]"
    }
   },
   "cell_type": "markdown",
   "id": "d52da9fa",
   "metadata": {},
   "source": [
    "![libertex.png](attachment:libertex.png)"
   ]
  },
  {
   "cell_type": "markdown",
   "id": "1abd7d8e",
   "metadata": {
    "toc": true
   },
   "source": [
    "<h1>Table of Contents<span class=\"tocSkip\"></span></h1>\n",
    "<div class=\"toc\"><ul class=\"toc-item\"><li><span><a href=\"#SECTION-A-:\" data-toc-modified-id=\"SECTION-A-:-1\">SECTION A :</a></span></li><li><span><a href=\"#Problem-Statement\" data-toc-modified-id=\"Problem-Statement-2\">Problem Statement</a></span></li><li><span><a href=\"#Imports-and-Merge-of-datasets\" data-toc-modified-id=\"Imports-and-Merge-of-datasets-3\">Imports and Merge of datasets</a></span></li><li><span><a href=\"#Data-Descriptive-Analysis\" data-toc-modified-id=\"Data-Descriptive-Analysis-4\">Data Descriptive Analysis</a></span><ul class=\"toc-item\"><li><span><a href=\"#Dataset-Information--for-each-column\" data-toc-modified-id=\"Dataset-Information--for-each-column-4.1\">Dataset Information  for each column</a></span></li><li><span><a href=\"#Data-Cleaning:-Fixing-Data-Appropriately\" data-toc-modified-id=\"Data-Cleaning:-Fixing-Data-Appropriately-4.2\">Data Cleaning: Fixing Data Appropriately</a></span></li></ul></li><li><span><a href=\"#SECTION-B-:\" data-toc-modified-id=\"SECTION-B-:-5\">SECTION B :</a></span></li><li><span><a href=\"#Q1:-Users-Distribution-by-country\" data-toc-modified-id=\"Q1:-Users-Distribution-by-country-6\">Q1: Users Distribution by country</a></span></li><li><span><a href=\"#Q2:-Finding-Outliers-in-data\" data-toc-modified-id=\"Q2:-Finding-Outliers-in-data-7\">Q2: Finding Outliers in data</a></span></li><li><span><a href=\"#Q3:-Segment-with-best-conversion-rate\" data-toc-modified-id=\"Q3:-Segment-with-best-conversion-rate-8\">Q3: Segment with best conversion rate</a></span></li><li><span><a href=\"#Q4:-Visualizing-Deposits-over-Sources-&amp;-Channels\" data-toc-modified-id=\"Q4:-Visualizing-Deposits-over-Sources-&amp;-Channels-9\">Q4: Visualizing Deposits over Sources &amp; Channels</a></span></li><li><span><a href=\"#SECTION-C-:\" data-toc-modified-id=\"SECTION-C-:-10\">SECTION C :</a></span></li><li><span><a href=\"#Additional-Analysis\" data-toc-modified-id=\"Additional-Analysis-11\">Additional Analysis</a></span><ul class=\"toc-item\"><li><span><a href=\"#Latency\" data-toc-modified-id=\"Latency-11.1\">Latency</a></span></li><li><span><a href=\"#Segment-(Source)-across-all-channels\" data-toc-modified-id=\"Segment-(Source)-across-all-channels-11.2\">Segment (Source) across all channels</a></span></li><li><span><a href=\"#Countries-with-its-major-Source\" data-toc-modified-id=\"Countries-with-its-major-Source-11.3\">Countries with its major Source</a></span></li><li><span><a href=\"#Most-used-Channel-across-Countries\" data-toc-modified-id=\"Most-used-Channel-across-Countries-11.4\">Most used Channel across Countries</a></span></li><li><span><a href=\"#Correlation\" data-toc-modified-id=\"Correlation-11.5\">Correlation</a></span></li></ul></li><li><span><a href=\"#CONCLUSION\" data-toc-modified-id=\"CONCLUSION-12\">CONCLUSION</a></span></li></ul></div>"
   ]
  },
  {
   "cell_type": "markdown",
   "id": "9fbb8310",
   "metadata": {},
   "source": [
    "# SECTION A :"
   ]
  },
  {
   "cell_type": "markdown",
   "id": "ceefadec",
   "metadata": {},
   "source": [
    "# Problem Statement\n",
    " \n",
    " Tasks:\n",
    " \n",
    " Finding useful insights from data:\n",
    "Identifying the segments of data with the best traffic quality\n",
    "\n",
    "Identification of Key features/Opportunities for improvement\n",
    "\n"
   ]
  },
  {
   "cell_type": "markdown",
   "id": "58529c2f",
   "metadata": {},
   "source": [
    "# Imports and Merge of datasets"
   ]
  },
  {
   "cell_type": "code",
   "execution_count": 1,
   "id": "e2c0c605",
   "metadata": {},
   "outputs": [],
   "source": [
    "import numpy as np\n",
    "import pandas as pd\n",
    "pd.set_option('max_columns', None)\n",
    "import matplotlib.pyplot as plt\n",
    "import seaborn as sns\n",
    "%matplotlib inline\n",
    "from matplotlib import collections as matcoll\n",
    "from datetime import datetime as dt_dt\n",
    "import plotly.express as px\n",
    "import warnings\n",
    "warnings.filterwarnings('ignore')"
   ]
  },
  {
   "cell_type": "code",
   "execution_count": 2,
   "id": "6cc4bf53",
   "metadata": {},
   "outputs": [],
   "source": [
    "ClientProfile = pd.read_csv('synthetic_data.csv')\n",
    "ClientCountry =pd.read_csv('countries(1).csv')"
   ]
  },
  {
   "cell_type": "code",
   "execution_count": 3,
   "id": "7ff975a6",
   "metadata": {},
   "outputs": [
    {
     "data": {
      "text/html": [
       "<div>\n",
       "<style scoped>\n",
       "    .dataframe tbody tr th:only-of-type {\n",
       "        vertical-align: middle;\n",
       "    }\n",
       "\n",
       "    .dataframe tbody tr th {\n",
       "        vertical-align: top;\n",
       "    }\n",
       "\n",
       "    .dataframe thead th {\n",
       "        text-align: right;\n",
       "    }\n",
       "</style>\n",
       "<table border=\"1\" class=\"dataframe\">\n",
       "  <thead>\n",
       "    <tr style=\"text-align: right;\">\n",
       "      <th></th>\n",
       "      <th>Unnamed: 0</th>\n",
       "      <th>depo</th>\n",
       "      <th>segment</th>\n",
       "      <th>channel</th>\n",
       "      <th>clicks</th>\n",
       "      <th>latency</th>\n",
       "      <th>client_id</th>\n",
       "    </tr>\n",
       "  </thead>\n",
       "  <tbody>\n",
       "    <tr>\n",
       "      <th>0</th>\n",
       "      <td>0</td>\n",
       "      <td>0.0</td>\n",
       "      <td>postid_4057</td>\n",
       "      <td>smm</td>\n",
       "      <td>1.0</td>\n",
       "      <td>2.649725</td>\n",
       "      <td>1442498.0</td>\n",
       "    </tr>\n",
       "    <tr>\n",
       "      <th>1</th>\n",
       "      <td>1</td>\n",
       "      <td>0.0</td>\n",
       "      <td>telegram</td>\n",
       "      <td>affiliate</td>\n",
       "      <td>10.0</td>\n",
       "      <td>2.610846</td>\n",
       "      <td>7865631.0</td>\n",
       "    </tr>\n",
       "    <tr>\n",
       "      <th>2</th>\n",
       "      <td>2</td>\n",
       "      <td>0.0</td>\n",
       "      <td>postid_8542</td>\n",
       "      <td>facebook</td>\n",
       "      <td>13.0</td>\n",
       "      <td>3.001162</td>\n",
       "      <td>8165584.0</td>\n",
       "    </tr>\n",
       "    <tr>\n",
       "      <th>3</th>\n",
       "      <td>3</td>\n",
       "      <td>0.0</td>\n",
       "      <td>telegram</td>\n",
       "      <td>direct</td>\n",
       "      <td>0.0</td>\n",
       "      <td>1.788369</td>\n",
       "      <td>5893056.0</td>\n",
       "    </tr>\n",
       "    <tr>\n",
       "      <th>4</th>\n",
       "      <td>4</td>\n",
       "      <td>0.0</td>\n",
       "      <td>telegram</td>\n",
       "      <td>smm</td>\n",
       "      <td>0.0</td>\n",
       "      <td>1.932069</td>\n",
       "      <td>3780924.0</td>\n",
       "    </tr>\n",
       "  </tbody>\n",
       "</table>\n",
       "</div>"
      ],
      "text/plain": [
       "   Unnamed: 0  depo      segment    channel  clicks   latency  client_id\n",
       "0           0   0.0  postid_4057        smm     1.0  2.649725  1442498.0\n",
       "1           1   0.0     telegram  affiliate    10.0  2.610846  7865631.0\n",
       "2           2   0.0  postid_8542   facebook    13.0  3.001162  8165584.0\n",
       "3           3   0.0     telegram     direct     0.0  1.788369  5893056.0\n",
       "4           4   0.0     telegram        smm     0.0  1.932069  3780924.0"
      ]
     },
     "execution_count": 3,
     "metadata": {},
     "output_type": "execute_result"
    }
   ],
   "source": [
    "ClientProfile.head()"
   ]
  },
  {
   "cell_type": "code",
   "execution_count": 4,
   "id": "ff96d246",
   "metadata": {},
   "outputs": [
    {
     "data": {
      "text/html": [
       "<div>\n",
       "<style scoped>\n",
       "    .dataframe tbody tr th:only-of-type {\n",
       "        vertical-align: middle;\n",
       "    }\n",
       "\n",
       "    .dataframe tbody tr th {\n",
       "        vertical-align: top;\n",
       "    }\n",
       "\n",
       "    .dataframe thead th {\n",
       "        text-align: right;\n",
       "    }\n",
       "</style>\n",
       "<table border=\"1\" class=\"dataframe\">\n",
       "  <thead>\n",
       "    <tr style=\"text-align: right;\">\n",
       "      <th></th>\n",
       "      <th>country</th>\n",
       "      <th>client_id</th>\n",
       "    </tr>\n",
       "  </thead>\n",
       "  <tbody>\n",
       "    <tr>\n",
       "      <th>0</th>\n",
       "      <td>IN</td>\n",
       "      <td>6348826</td>\n",
       "    </tr>\n",
       "    <tr>\n",
       "      <th>1</th>\n",
       "      <td>FR</td>\n",
       "      <td>6751691</td>\n",
       "    </tr>\n",
       "    <tr>\n",
       "      <th>2</th>\n",
       "      <td>DE</td>\n",
       "      <td>8638448</td>\n",
       "    </tr>\n",
       "    <tr>\n",
       "      <th>3</th>\n",
       "      <td>LT</td>\n",
       "      <td>4722696</td>\n",
       "    </tr>\n",
       "    <tr>\n",
       "      <th>4</th>\n",
       "      <td>ES</td>\n",
       "      <td>2411132</td>\n",
       "    </tr>\n",
       "  </tbody>\n",
       "</table>\n",
       "</div>"
      ],
      "text/plain": [
       "  country  client_id\n",
       "0      IN    6348826\n",
       "1      FR    6751691\n",
       "2      DE    8638448\n",
       "3      LT    4722696\n",
       "4      ES    2411132"
      ]
     },
     "execution_count": 4,
     "metadata": {},
     "output_type": "execute_result"
    }
   ],
   "source": [
    "ClientCountry.head()"
   ]
  },
  {
   "cell_type": "code",
   "execution_count": 5,
   "id": "2e3985f5",
   "metadata": {},
   "outputs": [
    {
     "data": {
      "text/plain": [
       "(219314, 8)"
      ]
     },
     "execution_count": 5,
     "metadata": {},
     "output_type": "execute_result"
    }
   ],
   "source": [
    "df1 = pd.merge(ClientCountry, ClientProfile, on = \"client_id\") #merging the two datasets\n",
    "\n",
    "df1.shape"
   ]
  },
  {
   "cell_type": "code",
   "execution_count": 6,
   "id": "0e9724bc",
   "metadata": {},
   "outputs": [
    {
     "name": "stdout",
     "output_type": "stream",
     "text": [
      "(157560, 8)\n"
     ]
    },
    {
     "data": {
      "text/html": [
       "<div>\n",
       "<style scoped>\n",
       "    .dataframe tbody tr th:only-of-type {\n",
       "        vertical-align: middle;\n",
       "    }\n",
       "\n",
       "    .dataframe tbody tr th {\n",
       "        vertical-align: top;\n",
       "    }\n",
       "\n",
       "    .dataframe thead th {\n",
       "        text-align: right;\n",
       "    }\n",
       "</style>\n",
       "<table border=\"1\" class=\"dataframe\">\n",
       "  <thead>\n",
       "    <tr style=\"text-align: right;\">\n",
       "      <th></th>\n",
       "      <th>country</th>\n",
       "      <th>client_id</th>\n",
       "      <th>Unnamed: 0</th>\n",
       "      <th>depo</th>\n",
       "      <th>segment</th>\n",
       "      <th>channel</th>\n",
       "      <th>clicks</th>\n",
       "      <th>latency</th>\n",
       "    </tr>\n",
       "  </thead>\n",
       "  <tbody>\n",
       "    <tr>\n",
       "      <th>0</th>\n",
       "      <td>IN</td>\n",
       "      <td>6348826</td>\n",
       "      <td>135788</td>\n",
       "      <td>0.0</td>\n",
       "      <td>postid_2272</td>\n",
       "      <td>social media</td>\n",
       "      <td>22.0</td>\n",
       "      <td>3.571894</td>\n",
       "    </tr>\n",
       "    <tr>\n",
       "      <th>1</th>\n",
       "      <td>FR</td>\n",
       "      <td>6751691</td>\n",
       "      <td>30285</td>\n",
       "      <td>0.0</td>\n",
       "      <td>postid_275</td>\n",
       "      <td>smm</td>\n",
       "      <td>0.0</td>\n",
       "      <td>0.942220</td>\n",
       "    </tr>\n",
       "    <tr>\n",
       "      <th>3</th>\n",
       "      <td>DE</td>\n",
       "      <td>8638448</td>\n",
       "      <td>99020</td>\n",
       "      <td>0.0</td>\n",
       "      <td>telegram</td>\n",
       "      <td>facebook</td>\n",
       "      <td>19.0</td>\n",
       "      <td>2.801449</td>\n",
       "    </tr>\n",
       "    <tr>\n",
       "      <th>4</th>\n",
       "      <td>LT</td>\n",
       "      <td>4722696</td>\n",
       "      <td>23716</td>\n",
       "      <td>307.0</td>\n",
       "      <td>telegram</td>\n",
       "      <td>social media</td>\n",
       "      <td>26.0</td>\n",
       "      <td>1.458857</td>\n",
       "    </tr>\n",
       "    <tr>\n",
       "      <th>6</th>\n",
       "      <td>ES</td>\n",
       "      <td>2411132</td>\n",
       "      <td>24491</td>\n",
       "      <td>0.0</td>\n",
       "      <td>telegram</td>\n",
       "      <td>smm</td>\n",
       "      <td>0.0</td>\n",
       "      <td>1.600755</td>\n",
       "    </tr>\n",
       "    <tr>\n",
       "      <th>...</th>\n",
       "      <td>...</td>\n",
       "      <td>...</td>\n",
       "      <td>...</td>\n",
       "      <td>...</td>\n",
       "      <td>...</td>\n",
       "      <td>...</td>\n",
       "      <td>...</td>\n",
       "      <td>...</td>\n",
       "    </tr>\n",
       "    <tr>\n",
       "      <th>219309</th>\n",
       "      <td>DE</td>\n",
       "      <td>2626295</td>\n",
       "      <td>64380</td>\n",
       "      <td>385.0</td>\n",
       "      <td>postid_9076</td>\n",
       "      <td>facebook</td>\n",
       "      <td>0.0</td>\n",
       "      <td>4.490812</td>\n",
       "    </tr>\n",
       "    <tr>\n",
       "      <th>219310</th>\n",
       "      <td>US</td>\n",
       "      <td>7817131</td>\n",
       "      <td>69527</td>\n",
       "      <td>0.0</td>\n",
       "      <td>telegram</td>\n",
       "      <td>smm</td>\n",
       "      <td>0.0</td>\n",
       "      <td>2.966362</td>\n",
       "    </tr>\n",
       "    <tr>\n",
       "      <th>219311</th>\n",
       "      <td>MO</td>\n",
       "      <td>1023767</td>\n",
       "      <td>112098</td>\n",
       "      <td>0.0</td>\n",
       "      <td>postid_7202</td>\n",
       "      <td>social media</td>\n",
       "      <td>3.0</td>\n",
       "      <td>3.704628</td>\n",
       "    </tr>\n",
       "    <tr>\n",
       "      <th>219312</th>\n",
       "      <td>MO</td>\n",
       "      <td>7518683</td>\n",
       "      <td>119055</td>\n",
       "      <td>0.0</td>\n",
       "      <td>postid_4200</td>\n",
       "      <td>smm</td>\n",
       "      <td>4.0</td>\n",
       "      <td>3.258969</td>\n",
       "    </tr>\n",
       "    <tr>\n",
       "      <th>219313</th>\n",
       "      <td>US</td>\n",
       "      <td>5408624</td>\n",
       "      <td>67671</td>\n",
       "      <td>0.0</td>\n",
       "      <td>postid_1085</td>\n",
       "      <td>smm</td>\n",
       "      <td>1.0</td>\n",
       "      <td>1.805891</td>\n",
       "    </tr>\n",
       "  </tbody>\n",
       "</table>\n",
       "<p>157560 rows × 8 columns</p>\n",
       "</div>"
      ],
      "text/plain": [
       "       country  client_id  Unnamed: 0   depo      segment       channel  \\\n",
       "0           IN    6348826      135788    0.0  postid_2272  social media   \n",
       "1           FR    6751691       30285    0.0   postid_275           smm   \n",
       "3           DE    8638448       99020    0.0     telegram      facebook   \n",
       "4           LT    4722696       23716  307.0     telegram  social media   \n",
       "6           ES    2411132       24491    0.0     telegram           smm   \n",
       "...        ...        ...         ...    ...          ...           ...   \n",
       "219309      DE    2626295       64380  385.0  postid_9076      facebook   \n",
       "219310      US    7817131       69527    0.0     telegram           smm   \n",
       "219311      MO    1023767      112098    0.0  postid_7202  social media   \n",
       "219312      MO    7518683      119055    0.0  postid_4200           smm   \n",
       "219313      US    5408624       67671    0.0  postid_1085           smm   \n",
       "\n",
       "        clicks   latency  \n",
       "0         22.0  3.571894  \n",
       "1          0.0  0.942220  \n",
       "3         19.0  2.801449  \n",
       "4         26.0  1.458857  \n",
       "6          0.0  1.600755  \n",
       "...        ...       ...  \n",
       "219309     0.0  4.490812  \n",
       "219310     0.0  2.966362  \n",
       "219311     3.0  3.704628  \n",
       "219312     4.0  3.258969  \n",
       "219313     1.0  1.805891  \n",
       "\n",
       "[157560 rows x 8 columns]"
      ]
     },
     "execution_count": 6,
     "metadata": {},
     "output_type": "execute_result"
    }
   ],
   "source": [
    "df1 = df1.drop_duplicates()                                     ##dropping duplicates \n",
    "print(df1.shape)\n",
    "df1"
   ]
  },
  {
   "cell_type": "markdown",
   "id": "721b17b8",
   "metadata": {},
   "source": [
    "# Data Descriptive Analysis"
   ]
  },
  {
   "cell_type": "code",
   "execution_count": 7,
   "id": "16486829",
   "metadata": {},
   "outputs": [
    {
     "data": {
      "text/html": [
       "<div>\n",
       "<style scoped>\n",
       "    .dataframe tbody tr th:only-of-type {\n",
       "        vertical-align: middle;\n",
       "    }\n",
       "\n",
       "    .dataframe tbody tr th {\n",
       "        vertical-align: top;\n",
       "    }\n",
       "\n",
       "    .dataframe thead th {\n",
       "        text-align: right;\n",
       "    }\n",
       "</style>\n",
       "<table border=\"1\" class=\"dataframe\">\n",
       "  <thead>\n",
       "    <tr style=\"text-align: right;\">\n",
       "      <th></th>\n",
       "      <th>client_id</th>\n",
       "      <th>Unnamed: 0</th>\n",
       "      <th>depo</th>\n",
       "      <th>clicks</th>\n",
       "      <th>latency</th>\n",
       "    </tr>\n",
       "  </thead>\n",
       "  <tbody>\n",
       "    <tr>\n",
       "      <th>count</th>\n",
       "      <td>1.575600e+05</td>\n",
       "      <td>157560.000000</td>\n",
       "      <td>157560.000000</td>\n",
       "      <td>157560.000000</td>\n",
       "      <td>157560.000000</td>\n",
       "    </tr>\n",
       "    <tr>\n",
       "      <th>mean</th>\n",
       "      <td>4.994673e+06</td>\n",
       "      <td>78779.500000</td>\n",
       "      <td>22.207438</td>\n",
       "      <td>11.404367</td>\n",
       "      <td>3.023556</td>\n",
       "    </tr>\n",
       "    <tr>\n",
       "      <th>std</th>\n",
       "      <td>2.307803e+06</td>\n",
       "      <td>45483.798544</td>\n",
       "      <td>391.923526</td>\n",
       "      <td>12.610778</td>\n",
       "      <td>1.049172</td>\n",
       "    </tr>\n",
       "    <tr>\n",
       "      <th>min</th>\n",
       "      <td>1.000126e+06</td>\n",
       "      <td>0.000000</td>\n",
       "      <td>-164.000000</td>\n",
       "      <td>0.000000</td>\n",
       "      <td>0.000071</td>\n",
       "    </tr>\n",
       "    <tr>\n",
       "      <th>25%</th>\n",
       "      <td>2.994393e+06</td>\n",
       "      <td>39389.750000</td>\n",
       "      <td>0.000000</td>\n",
       "      <td>0.000000</td>\n",
       "      <td>2.323458</td>\n",
       "    </tr>\n",
       "    <tr>\n",
       "      <th>50%</th>\n",
       "      <td>4.991440e+06</td>\n",
       "      <td>78779.500000</td>\n",
       "      <td>0.000000</td>\n",
       "      <td>8.000000</td>\n",
       "      <td>3.003904</td>\n",
       "    </tr>\n",
       "    <tr>\n",
       "      <th>75%</th>\n",
       "      <td>6.990412e+06</td>\n",
       "      <td>118169.250000</td>\n",
       "      <td>0.000000</td>\n",
       "      <td>19.000000</td>\n",
       "      <td>3.693100</td>\n",
       "    </tr>\n",
       "    <tr>\n",
       "      <th>max</th>\n",
       "      <td>8.999961e+06</td>\n",
       "      <td>157559.000000</td>\n",
       "      <td>29527.000000</td>\n",
       "      <td>50.000000</td>\n",
       "      <td>11.016521</td>\n",
       "    </tr>\n",
       "  </tbody>\n",
       "</table>\n",
       "</div>"
      ],
      "text/plain": [
       "          client_id     Unnamed: 0           depo         clicks  \\\n",
       "count  1.575600e+05  157560.000000  157560.000000  157560.000000   \n",
       "mean   4.994673e+06   78779.500000      22.207438      11.404367   \n",
       "std    2.307803e+06   45483.798544     391.923526      12.610778   \n",
       "min    1.000126e+06       0.000000    -164.000000       0.000000   \n",
       "25%    2.994393e+06   39389.750000       0.000000       0.000000   \n",
       "50%    4.991440e+06   78779.500000       0.000000       8.000000   \n",
       "75%    6.990412e+06  118169.250000       0.000000      19.000000   \n",
       "max    8.999961e+06  157559.000000   29527.000000      50.000000   \n",
       "\n",
       "             latency  \n",
       "count  157560.000000  \n",
       "mean        3.023556  \n",
       "std         1.049172  \n",
       "min         0.000071  \n",
       "25%         2.323458  \n",
       "50%         3.003904  \n",
       "75%         3.693100  \n",
       "max        11.016521  "
      ]
     },
     "execution_count": 7,
     "metadata": {},
     "output_type": "execute_result"
    }
   ],
   "source": [
    "df1.describe()"
   ]
  },
  {
   "cell_type": "markdown",
   "id": "620352ef",
   "metadata": {},
   "source": [
    "## Dataset Information  for each column"
   ]
  },
  {
   "cell_type": "code",
   "execution_count": 8,
   "id": "67a8524e",
   "metadata": {},
   "outputs": [
    {
     "name": "stdout",
     "output_type": "stream",
     "text": [
      "The Table below shows the Data Information of each column \n",
      "Data Shape:  (157560, 8)\n"
     ]
    },
    {
     "data": {
      "text/html": [
       "<div>\n",
       "<style scoped>\n",
       "    .dataframe tbody tr th:only-of-type {\n",
       "        vertical-align: middle;\n",
       "    }\n",
       "\n",
       "    .dataframe tbody tr th {\n",
       "        vertical-align: top;\n",
       "    }\n",
       "\n",
       "    .dataframe thead th {\n",
       "        text-align: right;\n",
       "    }\n",
       "</style>\n",
       "<table border=\"1\" class=\"dataframe\">\n",
       "  <thead>\n",
       "    <tr style=\"text-align: right;\">\n",
       "      <th></th>\n",
       "      <th>Datatype</th>\n",
       "      <th>Missing Val</th>\n",
       "      <th>% Missing val</th>\n",
       "      <th>Num of Zeros</th>\n",
       "      <th>% Num of Zeros</th>\n",
       "      <th>nUnique Values</th>\n",
       "    </tr>\n",
       "  </thead>\n",
       "  <tbody>\n",
       "    <tr>\n",
       "      <th>country</th>\n",
       "      <td>object</td>\n",
       "      <td>0</td>\n",
       "      <td>0.00</td>\n",
       "      <td>0</td>\n",
       "      <td>0.00</td>\n",
       "      <td>11</td>\n",
       "    </tr>\n",
       "    <tr>\n",
       "      <th>client_id</th>\n",
       "      <td>int64</td>\n",
       "      <td>0</td>\n",
       "      <td>0.00</td>\n",
       "      <td>0</td>\n",
       "      <td>0.00</td>\n",
       "      <td>157560</td>\n",
       "    </tr>\n",
       "    <tr>\n",
       "      <th>Unnamed: 0</th>\n",
       "      <td>int64</td>\n",
       "      <td>0</td>\n",
       "      <td>0.00</td>\n",
       "      <td>1</td>\n",
       "      <td>0.00</td>\n",
       "      <td>157560</td>\n",
       "    </tr>\n",
       "    <tr>\n",
       "      <th>depo</th>\n",
       "      <td>float64</td>\n",
       "      <td>0</td>\n",
       "      <td>0.00</td>\n",
       "      <td>150303</td>\n",
       "      <td>95.39</td>\n",
       "      <td>810</td>\n",
       "    </tr>\n",
       "    <tr>\n",
       "      <th>segment</th>\n",
       "      <td>object</td>\n",
       "      <td>0</td>\n",
       "      <td>0.00</td>\n",
       "      <td>0</td>\n",
       "      <td>0.00</td>\n",
       "      <td>9801</td>\n",
       "    </tr>\n",
       "    <tr>\n",
       "      <th>channel</th>\n",
       "      <td>object</td>\n",
       "      <td>1598</td>\n",
       "      <td>1.01</td>\n",
       "      <td>0</td>\n",
       "      <td>0.00</td>\n",
       "      <td>5</td>\n",
       "    </tr>\n",
       "    <tr>\n",
       "      <th>clicks</th>\n",
       "      <td>float64</td>\n",
       "      <td>0</td>\n",
       "      <td>0.00</td>\n",
       "      <td>54214</td>\n",
       "      <td>34.41</td>\n",
       "      <td>51</td>\n",
       "    </tr>\n",
       "    <tr>\n",
       "      <th>latency</th>\n",
       "      <td>float64</td>\n",
       "      <td>0</td>\n",
       "      <td>0.00</td>\n",
       "      <td>0</td>\n",
       "      <td>0.00</td>\n",
       "      <td>157171</td>\n",
       "    </tr>\n",
       "  </tbody>\n",
       "</table>\n",
       "</div>"
      ],
      "text/plain": [
       "           Datatype  Missing Val  % Missing val  Num of Zeros  % Num of Zeros  \\\n",
       "country      object            0           0.00             0            0.00   \n",
       "client_id     int64            0           0.00             0            0.00   \n",
       "Unnamed: 0    int64            0           0.00             1            0.00   \n",
       "depo        float64            0           0.00        150303           95.39   \n",
       "segment      object            0           0.00             0            0.00   \n",
       "channel      object         1598           1.01             0            0.00   \n",
       "clicks      float64            0           0.00         54214           34.41   \n",
       "latency     float64            0           0.00             0            0.00   \n",
       "\n",
       "            nUnique Values  \n",
       "country                 11  \n",
       "client_id           157560  \n",
       "Unnamed: 0          157560  \n",
       "depo                   810  \n",
       "segment               9801  \n",
       "channel                  5  \n",
       "clicks                  51  \n",
       "latency             157171  "
      ]
     },
     "execution_count": 8,
     "metadata": {},
     "output_type": "execute_result"
    }
   ],
   "source": [
    "Data_Dict= pd.DataFrame(df1.dtypes)                   #Datatype of each column\n",
    "Data_Dict['Missing Val'] = df1.isnull().sum()         #Num of missing values, add to table\n",
    "Data_Dict['% Missing val'] = round((Data_Dict['Missing Val'].astype(int)/df1.shape[0] * 100),2)\n",
    "Data_Dict['Num of Zeros'] = (df1 == 0).sum(0)\n",
    "Data_Dict['% Num of Zeros'] = round((Data_Dict['Num of Zeros'].astype(int)/df1.shape[0] * 100),2)\n",
    "Data_Dict['nUnique Values']= df1.nunique()             #Num of unique entries, add to table\n",
    "Data_Dict=Data_Dict.rename(columns={0:'Datatype'})\n",
    "print('The Table below shows the Data Information of each column ')\n",
    "print('Data Shape: ', df1.shape)\n",
    "\n",
    "Data_Dict"
   ]
  },
  {
   "cell_type": "markdown",
   "id": "d011563b",
   "metadata": {},
   "source": [
    "There are about 1598 data input missing in channel column amounting to about 1% of the total data. Dropping this rows will not have a huge effect on our data. So we drop empty values."
   ]
  },
  {
   "cell_type": "markdown",
   "id": "ccd40518",
   "metadata": {},
   "source": [
    "## Data Cleaning: Fixing Data Appropriately\n",
    "  \n",
    "  -   Removal of NULL values in \"channel\" column\n",
    "\n",
    "  - Removal of negative entries from the \"depo\" column (as deposit cannot be negative)\n",
    "  - drop column \"Unnamed: 0\"\n",
    "  - split the Segment column into integer and segment id column then drop the integers and intial segment column."
   ]
  },
  {
   "cell_type": "code",
   "execution_count": 9,
   "id": "bf84526d",
   "metadata": {},
   "outputs": [
    {
     "data": {
      "text/plain": [
       "country       0\n",
       "client_id     0\n",
       "Unnamed: 0    0\n",
       "depo          0\n",
       "segment       0\n",
       "channel       0\n",
       "clicks        0\n",
       "latency       0\n",
       "dtype: int64"
      ]
     },
     "execution_count": 9,
     "metadata": {},
     "output_type": "execute_result"
    }
   ],
   "source": [
    "DF1 = df1[df1['channel'].notna()]   #removing missing values in \"channel\" \n",
    "\n",
    "                  \n",
    "#checking if missing values is properly handled\n",
    "DF1.isnull().sum()"
   ]
  },
  {
   "cell_type": "code",
   "execution_count": 12,
   "id": "c4cd66eb",
   "metadata": {},
   "outputs": [
    {
     "data": {
      "text/plain": [
       "0.0"
      ]
     },
     "execution_count": 12,
     "metadata": {},
     "output_type": "execute_result"
    }
   ],
   "source": [
    "df1 = df1[df1['depo']>=0]            #removing negative deposit entries in \"depo\"\n",
    "df1['depo'].min()"
   ]
  },
  {
   "cell_type": "code",
   "execution_count": 11,
   "id": "5ee8baae",
   "metadata": {},
   "outputs": [
    {
     "data": {
      "text/plain": [
       "<AxesSubplot:xlabel='depo'>"
      ]
     },
     "execution_count": 11,
     "metadata": {},
     "output_type": "execute_result"
    },
    {
     "data": {
      "image/png": "[encoded data removed]",
      "text/plain": [
       "<Figure size 576x360 with 1 Axes>"
      ]
     },
     "metadata": {
      "needs_background": "light"
     },
     "output_type": "display_data"
    }
   ],
   "source": [
    "plt.figure(figsize=(8,5)) # visulization of the depo (deposit) column\n",
    "sns.boxplot('depo',data=df1)"
   ]
  },
  {
   "cell_type": "code",
   "execution_count": 13,
   "id": "7e5301ce",
   "metadata": {},
   "outputs": [
    {
     "data": {
      "text/html": [
       "<div>\n",
       "<style scoped>\n",
       "    .dataframe tbody tr th:only-of-type {\n",
       "        vertical-align: middle;\n",
       "    }\n",
       "\n",
       "    .dataframe tbody tr th {\n",
       "        vertical-align: top;\n",
       "    }\n",
       "\n",
       "    .dataframe thead th {\n",
       "        text-align: right;\n",
       "    }\n",
       "</style>\n",
       "<table border=\"1\" class=\"dataframe\">\n",
       "  <thead>\n",
       "    <tr style=\"text-align: right;\">\n",
       "      <th></th>\n",
       "      <th>country</th>\n",
       "      <th>client_id</th>\n",
       "      <th>depo</th>\n",
       "      <th>segment</th>\n",
       "      <th>channel</th>\n",
       "      <th>clicks</th>\n",
       "      <th>latency</th>\n",
       "    </tr>\n",
       "  </thead>\n",
       "  <tbody>\n",
       "    <tr>\n",
       "      <th>0</th>\n",
       "      <td>IN</td>\n",
       "      <td>6348826</td>\n",
       "      <td>0.0</td>\n",
       "      <td>postid_2272</td>\n",
       "      <td>social media</td>\n",
       "      <td>22.0</td>\n",
       "      <td>3.571894</td>\n",
       "    </tr>\n",
       "    <tr>\n",
       "      <th>1</th>\n",
       "      <td>FR</td>\n",
       "      <td>6751691</td>\n",
       "      <td>0.0</td>\n",
       "      <td>postid_275</td>\n",
       "      <td>smm</td>\n",
       "      <td>0.0</td>\n",
       "      <td>0.942220</td>\n",
       "    </tr>\n",
       "    <tr>\n",
       "      <th>3</th>\n",
       "      <td>DE</td>\n",
       "      <td>8638448</td>\n",
       "      <td>0.0</td>\n",
       "      <td>telegram</td>\n",
       "      <td>facebook</td>\n",
       "      <td>19.0</td>\n",
       "      <td>2.801449</td>\n",
       "    </tr>\n",
       "    <tr>\n",
       "      <th>4</th>\n",
       "      <td>LT</td>\n",
       "      <td>4722696</td>\n",
       "      <td>307.0</td>\n",
       "      <td>telegram</td>\n",
       "      <td>social media</td>\n",
       "      <td>26.0</td>\n",
       "      <td>1.458857</td>\n",
       "    </tr>\n",
       "    <tr>\n",
       "      <th>6</th>\n",
       "      <td>ES</td>\n",
       "      <td>2411132</td>\n",
       "      <td>0.0</td>\n",
       "      <td>telegram</td>\n",
       "      <td>smm</td>\n",
       "      <td>0.0</td>\n",
       "      <td>1.600755</td>\n",
       "    </tr>\n",
       "  </tbody>\n",
       "</table>\n",
       "</div>"
      ],
      "text/plain": [
       "  country  client_id   depo      segment       channel  clicks   latency\n",
       "0      IN    6348826    0.0  postid_2272  social media    22.0  3.571894\n",
       "1      FR    6751691    0.0   postid_275           smm     0.0  0.942220\n",
       "3      DE    8638448    0.0     telegram      facebook    19.0  2.801449\n",
       "4      LT    4722696  307.0     telegram  social media    26.0  1.458857\n",
       "6      ES    2411132    0.0     telegram           smm     0.0  1.600755"
      ]
     },
     "execution_count": 13,
     "metadata": {},
     "output_type": "execute_result"
    }
   ],
   "source": [
    "# drop the column 'Unnamed: 0' since it is the numbering of rows from the Client Profile (synthestic dataset)\n",
    "df1 = df1.drop([\"Unnamed: 0\"],axis=1)\n",
    "df1.head()"
   ]
  },
  {
   "cell_type": "code",
   "execution_count": 14,
   "id": "de25b339",
   "metadata": {},
   "outputs": [
    {
     "data": {
      "text/html": [
       "<div>\n",
       "<style scoped>\n",
       "    .dataframe tbody tr th:only-of-type {\n",
       "        vertical-align: middle;\n",
       "    }\n",
       "\n",
       "    .dataframe tbody tr th {\n",
       "        vertical-align: top;\n",
       "    }\n",
       "\n",
       "    .dataframe thead th {\n",
       "        text-align: right;\n",
       "    }\n",
       "</style>\n",
       "<table border=\"1\" class=\"dataframe\">\n",
       "  <thead>\n",
       "    <tr style=\"text-align: right;\">\n",
       "      <th></th>\n",
       "      <th>country</th>\n",
       "      <th>client_id</th>\n",
       "      <th>depo</th>\n",
       "      <th>channel</th>\n",
       "      <th>clicks</th>\n",
       "      <th>latency</th>\n",
       "      <th>segment_id</th>\n",
       "    </tr>\n",
       "  </thead>\n",
       "  <tbody>\n",
       "    <tr>\n",
       "      <th>0</th>\n",
       "      <td>IN</td>\n",
       "      <td>6348826</td>\n",
       "      <td>0.0</td>\n",
       "      <td>social media</td>\n",
       "      <td>22.0</td>\n",
       "      <td>3.571894</td>\n",
       "      <td>postid</td>\n",
       "    </tr>\n",
       "    <tr>\n",
       "      <th>1</th>\n",
       "      <td>FR</td>\n",
       "      <td>6751691</td>\n",
       "      <td>0.0</td>\n",
       "      <td>smm</td>\n",
       "      <td>0.0</td>\n",
       "      <td>0.942220</td>\n",
       "      <td>postid</td>\n",
       "    </tr>\n",
       "    <tr>\n",
       "      <th>3</th>\n",
       "      <td>DE</td>\n",
       "      <td>8638448</td>\n",
       "      <td>0.0</td>\n",
       "      <td>facebook</td>\n",
       "      <td>19.0</td>\n",
       "      <td>2.801449</td>\n",
       "      <td>telegram</td>\n",
       "    </tr>\n",
       "    <tr>\n",
       "      <th>4</th>\n",
       "      <td>LT</td>\n",
       "      <td>4722696</td>\n",
       "      <td>307.0</td>\n",
       "      <td>social media</td>\n",
       "      <td>26.0</td>\n",
       "      <td>1.458857</td>\n",
       "      <td>telegram</td>\n",
       "    </tr>\n",
       "    <tr>\n",
       "      <th>6</th>\n",
       "      <td>ES</td>\n",
       "      <td>2411132</td>\n",
       "      <td>0.0</td>\n",
       "      <td>smm</td>\n",
       "      <td>0.0</td>\n",
       "      <td>1.600755</td>\n",
       "      <td>telegram</td>\n",
       "    </tr>\n",
       "    <tr>\n",
       "      <th>...</th>\n",
       "      <td>...</td>\n",
       "      <td>...</td>\n",
       "      <td>...</td>\n",
       "      <td>...</td>\n",
       "      <td>...</td>\n",
       "      <td>...</td>\n",
       "      <td>...</td>\n",
       "    </tr>\n",
       "    <tr>\n",
       "      <th>219309</th>\n",
       "      <td>DE</td>\n",
       "      <td>2626295</td>\n",
       "      <td>385.0</td>\n",
       "      <td>facebook</td>\n",
       "      <td>0.0</td>\n",
       "      <td>4.490812</td>\n",
       "      <td>postid</td>\n",
       "    </tr>\n",
       "    <tr>\n",
       "      <th>219310</th>\n",
       "      <td>US</td>\n",
       "      <td>7817131</td>\n",
       "      <td>0.0</td>\n",
       "      <td>smm</td>\n",
       "      <td>0.0</td>\n",
       "      <td>2.966362</td>\n",
       "      <td>telegram</td>\n",
       "    </tr>\n",
       "    <tr>\n",
       "      <th>219311</th>\n",
       "      <td>MO</td>\n",
       "      <td>1023767</td>\n",
       "      <td>0.0</td>\n",
       "      <td>social media</td>\n",
       "      <td>3.0</td>\n",
       "      <td>3.704628</td>\n",
       "      <td>postid</td>\n",
       "    </tr>\n",
       "    <tr>\n",
       "      <th>219312</th>\n",
       "      <td>MO</td>\n",
       "      <td>7518683</td>\n",
       "      <td>0.0</td>\n",
       "      <td>smm</td>\n",
       "      <td>4.0</td>\n",
       "      <td>3.258969</td>\n",
       "      <td>postid</td>\n",
       "    </tr>\n",
       "    <tr>\n",
       "      <th>219313</th>\n",
       "      <td>US</td>\n",
       "      <td>5408624</td>\n",
       "      <td>0.0</td>\n",
       "      <td>smm</td>\n",
       "      <td>1.0</td>\n",
       "      <td>1.805891</td>\n",
       "      <td>postid</td>\n",
       "    </tr>\n",
       "  </tbody>\n",
       "</table>\n",
       "<p>157490 rows × 7 columns</p>\n",
       "</div>"
      ],
      "text/plain": [
       "       country  client_id   depo       channel  clicks   latency segment_id\n",
       "0           IN    6348826    0.0  social media    22.0  3.571894     postid\n",
       "1           FR    6751691    0.0           smm     0.0  0.942220     postid\n",
       "3           DE    8638448    0.0      facebook    19.0  2.801449   telegram\n",
       "4           LT    4722696  307.0  social media    26.0  1.458857   telegram\n",
       "6           ES    2411132    0.0           smm     0.0  1.600755   telegram\n",
       "...        ...        ...    ...           ...     ...       ...        ...\n",
       "219309      DE    2626295  385.0      facebook     0.0  4.490812     postid\n",
       "219310      US    7817131    0.0           smm     0.0  2.966362   telegram\n",
       "219311      MO    1023767    0.0  social media     3.0  3.704628     postid\n",
       "219312      MO    7518683    0.0           smm     4.0  3.258969     postid\n",
       "219313      US    5408624    0.0           smm     1.0  1.805891     postid\n",
       "\n",
       "[157490 rows x 7 columns]"
      ]
     },
     "execution_count": 14,
     "metadata": {},
     "output_type": "execute_result"
    }
   ],
   "source": [
    "#split the Segment column into integer and segment id column\n",
    "import re\n",
    "replace = re.compile(\"([a-zA-Z]+)\")\n",
    "\n",
    "df1['segment_id'] = df1['segment'].str.extract(replace)\n",
    "df1['integer'] = df1['segment'].str.replace(replace, \"\")\n",
    "\n",
    "df1 = df1.drop(['integer', 'segment'], axis=1)\n",
    "df1"
   ]
  },
  {
   "cell_type": "code",
   "execution_count": null,
   "id": "f55d5d26",
   "metadata": {},
   "outputs": [],
   "source": []
  },
  {
   "cell_type": "markdown",
   "id": "240cce26",
   "metadata": {},
   "source": [
    "# SECTION B :"
   ]
  },
  {
   "cell_type": "markdown",
   "id": "7e12d75c",
   "metadata": {},
   "source": [
    "# Q1: Users Distribution by country\n",
    "\n",
    "- How users are distributed over countries?"
   ]
  },
  {
   "cell_type": "code",
   "execution_count": 15,
   "id": "2928bdee",
   "metadata": {},
   "outputs": [
    {
     "name": "stdout",
     "output_type": "stream",
     "text": [
      "Percentage Distribution of clients aross different countries\n"
     ]
    },
    {
     "data": {
      "text/html": [
       "<div>\n",
       "<style scoped>\n",
       "    .dataframe tbody tr th:only-of-type {\n",
       "        vertical-align: middle;\n",
       "    }\n",
       "\n",
       "    .dataframe tbody tr th {\n",
       "        vertical-align: top;\n",
       "    }\n",
       "\n",
       "    .dataframe thead th {\n",
       "        text-align: right;\n",
       "    }\n",
       "</style>\n",
       "<table border=\"1\" class=\"dataframe\">\n",
       "  <thead>\n",
       "    <tr style=\"text-align: right;\">\n",
       "      <th></th>\n",
       "      <th>Country</th>\n",
       "      <th>Num_of_Users</th>\n",
       "      <th>%User_Distribution</th>\n",
       "    </tr>\n",
       "  </thead>\n",
       "  <tbody>\n",
       "    <tr>\n",
       "      <th>10</th>\n",
       "      <td>LU</td>\n",
       "      <td>14111</td>\n",
       "      <td>8.959934</td>\n",
       "    </tr>\n",
       "    <tr>\n",
       "      <th>9</th>\n",
       "      <td>IT</td>\n",
       "      <td>14201</td>\n",
       "      <td>9.017080</td>\n",
       "    </tr>\n",
       "    <tr>\n",
       "      <th>8</th>\n",
       "      <td>IN</td>\n",
       "      <td>14209</td>\n",
       "      <td>9.022160</td>\n",
       "    </tr>\n",
       "    <tr>\n",
       "      <th>7</th>\n",
       "      <td>MO</td>\n",
       "      <td>14220</td>\n",
       "      <td>9.029145</td>\n",
       "    </tr>\n",
       "    <tr>\n",
       "      <th>6</th>\n",
       "      <td>FR</td>\n",
       "      <td>14288</td>\n",
       "      <td>9.072322</td>\n",
       "    </tr>\n",
       "    <tr>\n",
       "      <th>5</th>\n",
       "      <td>LT</td>\n",
       "      <td>14332</td>\n",
       "      <td>9.100260</td>\n",
       "    </tr>\n",
       "    <tr>\n",
       "      <th>4</th>\n",
       "      <td>VN</td>\n",
       "      <td>14367</td>\n",
       "      <td>9.122484</td>\n",
       "    </tr>\n",
       "    <tr>\n",
       "      <th>3</th>\n",
       "      <td>IS</td>\n",
       "      <td>14403</td>\n",
       "      <td>9.145343</td>\n",
       "    </tr>\n",
       "    <tr>\n",
       "      <th>2</th>\n",
       "      <td>US</td>\n",
       "      <td>14417</td>\n",
       "      <td>9.154232</td>\n",
       "    </tr>\n",
       "    <tr>\n",
       "      <th>1</th>\n",
       "      <td>ES</td>\n",
       "      <td>14441</td>\n",
       "      <td>9.169471</td>\n",
       "    </tr>\n",
       "    <tr>\n",
       "      <th>0</th>\n",
       "      <td>DE</td>\n",
       "      <td>14501</td>\n",
       "      <td>9.207569</td>\n",
       "    </tr>\n",
       "  </tbody>\n",
       "</table>\n",
       "</div>"
      ],
      "text/plain": [
       "   Country  Num_of_Users  %User_Distribution\n",
       "10      LU         14111            8.959934\n",
       "9       IT         14201            9.017080\n",
       "8       IN         14209            9.022160\n",
       "7       MO         14220            9.029145\n",
       "6       FR         14288            9.072322\n",
       "5       LT         14332            9.100260\n",
       "4       VN         14367            9.122484\n",
       "3       IS         14403            9.145343\n",
       "2       US         14417            9.154232\n",
       "1       ES         14441            9.169471\n",
       "0       DE         14501            9.207569"
      ]
     },
     "execution_count": 15,
     "metadata": {},
     "output_type": "execute_result"
    }
   ],
   "source": [
    "print(\"Percentage Distribution of clients aross different countries\")\n",
    "country_distribution = pd.DataFrame(df1['country'].value_counts(normalize=True)*100).reset_index(drop=False)\n",
    "country_distribution = country_distribution.rename(columns={'index':'Country',\n",
    "                                 'country':'%User_Distribution'})\n",
    "country_distribution['Num_of_Users'] =pd.DataFrame(df1['country'].value_counts())['country'].values   \n",
    "country_distribution = country_distribution.sort_values(['%User_Distribution'])\n",
    "country_distribution[['Country','Num_of_Users','%User_Distribution']]"
   ]
  },
  {
   "cell_type": "code",
   "execution_count": 16,
   "id": "3be18645",
   "metadata": {},
   "outputs": [
    {
     "data": {
      "image/png": "[encoded data removed]",
      "text/plain": [
       "<Figure size 1152x576 with 1 Axes>"
      ]
     },
     "metadata": {
      "needs_background": "light"
     },
     "output_type": "display_data"
    }
   ],
   "source": [
    "plt.figure(figsize=(16,8))\n",
    "ax =sns.barplot(country_distribution['Country'],country_distribution['%User_Distribution'])\n",
    "x_locs,x_lables = plt.xticks()\n",
    "#plt.setp(x_lables, rotation=60)     ##rotating the x_lables\n",
    "plt.title(\"Bar Chart: Users Distribution Across Countries\", fontsize=20)\n",
    "plt.ylabel(\"Distribution(%)\", fontsize=18)\n",
    "plt.xlabel(\"Countries\",fontsize=18)\n",
    "\n",
    "                  #adding text lables...\n",
    "r = ax.patches\n",
    "mylist = [str(i) for i in round(country_distribution['%User_Distribution'],2)]\n",
    "labels = [s + '%' for s in mylist]\n",
    "for rec,label in zip(r,labels):\n",
    "  height = rec.get_height()\n",
    "  ax.text(rec.get_x() + rec.get_width()/2,\n",
    "          height,\n",
    "          label,\n",
    "          ha='center',\n",
    "          va='bottom')"
   ]
  },
  {
   "cell_type": "markdown",
   "id": "8349c0f5",
   "metadata": {},
   "source": [
    "\n",
    "\n",
    "- Top 3 countries with the highest user across all available countries of location.\n",
    "\n",
    "  - **Country-DE (Germany)** has 14,357 users (9.21% of all users)\n",
    "  - **Country-ES (Spain)** has 14,441 users (9.169% of all users)\n",
    "  - **Country-US (United States)** has 14,417 users (9.15% of all users)\n",
    "  \n",
    " - While\n",
    "    **Country-LU (luxembourg)** has 13,968 users\t(8.96% of all users)\n",
    "\n",
    "  - The difference in the number of users (between the countries with hightest and lowest numbers) is 389 users\n",
    "  \n",
    "The countries of the leads are basically in 3 continents, Europe with 7 countries followed by Asia with 3 countries. USA is the only country from North America. This shows that the app is not known at all in Africa, South America and so on. 11 countries in 3 continents.*USA, Germany, Spain, Iceland, Italy, France, India, Vietname, Luxembourg, Macao and Lithuania.*\n"
   ]
  },
  {
   "cell_type": "markdown",
   "id": "7c3c90b9",
   "metadata": {},
   "source": [
    "# Q2: Finding Outliers in data\n",
    "\n",
    "- How many outliers are there in data (in terms of deposits)? "
   ]
  },
  {
   "cell_type": "code",
   "execution_count": 17,
   "id": "8c7a2dfb",
   "metadata": {},
   "outputs": [
    {
     "data": {
      "text/plain": [
       "<AxesSubplot:xlabel='depo'>"
      ]
     },
     "execution_count": 17,
     "metadata": {},
     "output_type": "execute_result"
    },
    {
     "data": {
      "image/png": "[encoded data removed]",
      "text/plain": [
       "<Figure size 576x360 with 1 Axes>"
      ]
     },
     "metadata": {
      "needs_background": "light"
     },
     "output_type": "display_data"
    }
   ],
   "source": [
    "plt.figure(figsize=(8,5)) # visulization of the depo (deposit) column\n",
    "sns.boxplot('depo',data=df1)"
   ]
  },
  {
   "cell_type": "code",
   "execution_count": 18,
   "id": "590a9eb1",
   "metadata": {
    "scrolled": true
   },
   "outputs": [
    {
     "data": {
      "text/plain": [
       "Text(0.5, 0, 'Client_ID')"
      ]
     },
     "execution_count": 18,
     "metadata": {},
     "output_type": "execute_result"
    },
    {
     "data": {
      "image/png": "[encoded data removed]",
      "text/plain": [
       "<Figure size 1152x576 with 1 Axes>"
      ]
     },
     "metadata": {
      "needs_background": "light"
     },
     "output_type": "display_data"
    }
   ],
   "source": [
    "plt.figure(figsize=(16,8))\n",
    "plt.scatter(df1['client_id'],df1['depo'])\n",
    "\n",
    "#plt.setp(x_lables, rotation=60)     ##rotating the x_lables\n",
    "plt.title(\"Scatter Plot: Visualization of 'Deposit' made by clients\", fontsize=20)\n",
    "plt.ylabel(\"Deposit Amount($)\", fontsize=18)\n",
    "plt.xlabel(\"Client_ID\",fontsize=18)"
   ]
  },
  {
   "cell_type": "markdown",
   "id": "3e55eb41",
   "metadata": {},
   "source": [
    "- By physical inspection from teh scatter plot : \n",
    "\n",
    "  - Majority of the deposits recorded is between $(0 - 1000)"
   ]
  },
  {
   "cell_type": "code",
   "execution_count": 19,
   "id": "f604bca0",
   "metadata": {},
   "outputs": [
    {
     "name": "stdout",
     "output_type": "stream",
     "text": [
      "Min value: 0.0\n",
      "Mean value: 22.23070036192774\n",
      "Max value: 29527.0\n",
      "\n",
      "1st Quartile: 0.0\n",
      "2nd Quartile: 0.0\n",
      "3rd Quartile: 0.0\n"
     ]
    }
   ],
   "source": [
    " ###Finding outliers using the 1.5 IQR Rule\n",
    "print(\"Min value:\", df1['depo'].min())\n",
    "print(\"Mean value:\", df1['depo'].mean())\n",
    "print(\"Max value:\", df1['depo'].max())\n",
    "#print(\"Median value:\",  np.median( DF['depo']) )                    \n",
    "print()\n",
    "Q1 = np.quantile(df1['depo'].values, 0.25)  #finding the 1st quartile\n",
    "Q2 = np.quantile(df1['depo'].values, 0.5)   #finding the 3rd quartile\n",
    "Q3 = np.quantile(df1['depo'].values, 0.75)  #finding the 3rd quartile\n",
    "print(\"1st Quartile:\", Q1)\n",
    "print(\"2nd Quartile:\", Q2)\n",
    "print(\"3rd Quartile:\", Q3)"
   ]
  },
  {
   "cell_type": "code",
   "execution_count": 20,
   "id": "d608b253",
   "metadata": {},
   "outputs": [
    {
     "name": "stdout",
     "output_type": "stream",
     "text": [
      "Inter-Quartile Range: 0.0\n",
      "Upper Bound : 0.0\n",
      "Lower Bound : 0.0\n"
     ]
    }
   ],
   "source": [
    "IQR = Q3-Q1                  #Finding the Inter-Quartile Range\n",
    "upper_bound = Q3+(1.5*IQR)   #Finding the UPPER WWHISKER\n",
    "lower_bound = Q1-(1.5*IQR)   #Finding the LOWER WWHISKER \n",
    "\n",
    "print(\"Inter-Quartile Range:\", IQR)\n",
    "print(\"Upper Bound :\", upper_bound)\n",
    "print(\"Lower Bound :\", lower_bound)"
   ]
  },
  {
   "cell_type": "code",
   "execution_count": 21,
   "id": "ae6a6a1b",
   "metadata": {},
   "outputs": [
    {
     "data": {
      "text/plain": [
       "array([307., 287., 429., ..., 120., 326., 385.])"
      ]
     },
     "execution_count": 21,
     "metadata": {},
     "output_type": "execute_result"
    }
   ],
   "source": [
    "depo_array = df1['depo'].values\n",
    "outliers = depo_array[(depo_array < lower_bound) | (depo_array > upper_bound)]\n",
    "outliers"
   ]
  },
  {
   "cell_type": "code",
   "execution_count": 22,
   "id": "44d35f6d",
   "metadata": {},
   "outputs": [
    {
     "name": "stdout",
     "output_type": "stream",
     "text": [
      "Number of outliers: 7187\n"
     ]
    }
   ],
   "source": [
    "print(\"Number of outliers:\",len(outliers))"
   ]
  },
  {
   "cell_type": "markdown",
   "id": "513cf826",
   "metadata": {},
   "source": [
    "# Q3: Segment with best conversion rate\n",
    "\n",
    "- Find segments with best conversion rate (client/lead ratio) \n",
    "- and explain why you consider them best ones"
   ]
  },
  {
   "cell_type": "code",
   "execution_count": 23,
   "id": "9ac6e02e",
   "metadata": {},
   "outputs": [
    {
     "data": {
      "text/html": [
       "<div>\n",
       "<style scoped>\n",
       "    .dataframe tbody tr th:only-of-type {\n",
       "        vertical-align: middle;\n",
       "    }\n",
       "\n",
       "    .dataframe tbody tr th {\n",
       "        vertical-align: top;\n",
       "    }\n",
       "\n",
       "    .dataframe thead th {\n",
       "        text-align: right;\n",
       "    }\n",
       "</style>\n",
       "<table border=\"1\" class=\"dataframe\">\n",
       "  <thead>\n",
       "    <tr style=\"text-align: right;\">\n",
       "      <th></th>\n",
       "      <th>client_id</th>\n",
       "      <th>client_status</th>\n",
       "      <th>segment_id</th>\n",
       "      <th>channel</th>\n",
       "      <th>depo</th>\n",
       "      <th>clicks</th>\n",
       "      <th>latency</th>\n",
       "      <th>country</th>\n",
       "    </tr>\n",
       "  </thead>\n",
       "  <tbody>\n",
       "    <tr>\n",
       "      <th>0</th>\n",
       "      <td>6348826</td>\n",
       "      <td>Lead</td>\n",
       "      <td>post</td>\n",
       "      <td>social media</td>\n",
       "      <td>0.0</td>\n",
       "      <td>22.0</td>\n",
       "      <td>3.571894</td>\n",
       "      <td>IN</td>\n",
       "    </tr>\n",
       "    <tr>\n",
       "      <th>1</th>\n",
       "      <td>6751691</td>\n",
       "      <td>Lead</td>\n",
       "      <td>post</td>\n",
       "      <td>smm</td>\n",
       "      <td>0.0</td>\n",
       "      <td>0.0</td>\n",
       "      <td>0.942220</td>\n",
       "      <td>FR</td>\n",
       "    </tr>\n",
       "    <tr>\n",
       "      <th>3</th>\n",
       "      <td>8638448</td>\n",
       "      <td>Lead</td>\n",
       "      <td>telegram</td>\n",
       "      <td>facebook</td>\n",
       "      <td>0.0</td>\n",
       "      <td>19.0</td>\n",
       "      <td>2.801449</td>\n",
       "      <td>DE</td>\n",
       "    </tr>\n",
       "    <tr>\n",
       "      <th>4</th>\n",
       "      <td>4722696</td>\n",
       "      <td>Client</td>\n",
       "      <td>telegram</td>\n",
       "      <td>social media</td>\n",
       "      <td>307.0</td>\n",
       "      <td>26.0</td>\n",
       "      <td>1.458857</td>\n",
       "      <td>LT</td>\n",
       "    </tr>\n",
       "    <tr>\n",
       "      <th>6</th>\n",
       "      <td>2411132</td>\n",
       "      <td>Lead</td>\n",
       "      <td>telegram</td>\n",
       "      <td>smm</td>\n",
       "      <td>0.0</td>\n",
       "      <td>0.0</td>\n",
       "      <td>1.600755</td>\n",
       "      <td>ES</td>\n",
       "    </tr>\n",
       "    <tr>\n",
       "      <th>...</th>\n",
       "      <td>...</td>\n",
       "      <td>...</td>\n",
       "      <td>...</td>\n",
       "      <td>...</td>\n",
       "      <td>...</td>\n",
       "      <td>...</td>\n",
       "      <td>...</td>\n",
       "      <td>...</td>\n",
       "    </tr>\n",
       "    <tr>\n",
       "      <th>219309</th>\n",
       "      <td>2626295</td>\n",
       "      <td>Client</td>\n",
       "      <td>post</td>\n",
       "      <td>facebook</td>\n",
       "      <td>385.0</td>\n",
       "      <td>0.0</td>\n",
       "      <td>4.490812</td>\n",
       "      <td>DE</td>\n",
       "    </tr>\n",
       "    <tr>\n",
       "      <th>219310</th>\n",
       "      <td>7817131</td>\n",
       "      <td>Lead</td>\n",
       "      <td>telegram</td>\n",
       "      <td>smm</td>\n",
       "      <td>0.0</td>\n",
       "      <td>0.0</td>\n",
       "      <td>2.966362</td>\n",
       "      <td>US</td>\n",
       "    </tr>\n",
       "    <tr>\n",
       "      <th>219311</th>\n",
       "      <td>1023767</td>\n",
       "      <td>Lead</td>\n",
       "      <td>post</td>\n",
       "      <td>social media</td>\n",
       "      <td>0.0</td>\n",
       "      <td>3.0</td>\n",
       "      <td>3.704628</td>\n",
       "      <td>MO</td>\n",
       "    </tr>\n",
       "    <tr>\n",
       "      <th>219312</th>\n",
       "      <td>7518683</td>\n",
       "      <td>Lead</td>\n",
       "      <td>post</td>\n",
       "      <td>smm</td>\n",
       "      <td>0.0</td>\n",
       "      <td>4.0</td>\n",
       "      <td>3.258969</td>\n",
       "      <td>MO</td>\n",
       "    </tr>\n",
       "    <tr>\n",
       "      <th>219313</th>\n",
       "      <td>5408624</td>\n",
       "      <td>Lead</td>\n",
       "      <td>post</td>\n",
       "      <td>smm</td>\n",
       "      <td>0.0</td>\n",
       "      <td>1.0</td>\n",
       "      <td>1.805891</td>\n",
       "      <td>US</td>\n",
       "    </tr>\n",
       "  </tbody>\n",
       "</table>\n",
       "<p>157490 rows × 8 columns</p>\n",
       "</div>"
      ],
      "text/plain": [
       "        client_id client_status segment_id       channel   depo  clicks  \\\n",
       "0         6348826          Lead       post  social media    0.0    22.0   \n",
       "1         6751691          Lead       post           smm    0.0     0.0   \n",
       "3         8638448          Lead   telegram      facebook    0.0    19.0   \n",
       "4         4722696        Client   telegram  social media  307.0    26.0   \n",
       "6         2411132          Lead   telegram           smm    0.0     0.0   \n",
       "...           ...           ...        ...           ...    ...     ...   \n",
       "219309    2626295        Client       post      facebook  385.0     0.0   \n",
       "219310    7817131          Lead   telegram           smm    0.0     0.0   \n",
       "219311    1023767          Lead       post  social media    0.0     3.0   \n",
       "219312    7518683          Lead       post           smm    0.0     4.0   \n",
       "219313    5408624          Lead       post           smm    0.0     1.0   \n",
       "\n",
       "         latency country  \n",
       "0       3.571894      IN  \n",
       "1       0.942220      FR  \n",
       "3       2.801449      DE  \n",
       "4       1.458857      LT  \n",
       "6       1.600755      ES  \n",
       "...          ...     ...  \n",
       "219309  4.490812      DE  \n",
       "219310  2.966362      US  \n",
       "219311  3.704628      MO  \n",
       "219312  3.258969      MO  \n",
       "219313  1.805891      US  \n",
       "\n",
       "[157490 rows x 8 columns]"
      ]
     },
     "execution_count": 23,
     "metadata": {},
     "output_type": "execute_result"
    }
   ],
   "source": [
    "DF = df1.copy() \n",
    "DF['client_status'] = DF['segment_id']                 ##creating new column for 'client_status' (as a copy of segment column)\n",
    "DF.loc[DF['depo'] > 0, 'client_status'] = 'Client'  ## \"CLIENTS\" are those who have registered and made a deposit \"depo>0\" \n",
    "DF.loc[DF['depo'] == 0, 'client_status'] = 'Lead'   ## \"LEAD\" are those who have registered and WITHOUT a deposit \"depo==0\" \n",
    "DF.loc[DF['segment_id'].str.contains('postid'), 'segment_id'] = 'post'  ##Replacing all entries with \"postID\" with \"post\" \n",
    "\n",
    "DF[['client_id','client_status','segment_id','channel','depo', 'clicks', 'latency', 'country',]]"
   ]
  },
  {
   "cell_type": "code",
   "execution_count": 24,
   "id": "75f7f74b",
   "metadata": {},
   "outputs": [
    {
     "data": {
      "text/html": [
       "<div>\n",
       "<style scoped>\n",
       "    .dataframe tbody tr th:only-of-type {\n",
       "        vertical-align: middle;\n",
       "    }\n",
       "\n",
       "    .dataframe tbody tr th {\n",
       "        vertical-align: top;\n",
       "    }\n",
       "\n",
       "    .dataframe thead th {\n",
       "        text-align: right;\n",
       "    }\n",
       "</style>\n",
       "<table border=\"1\" class=\"dataframe\">\n",
       "  <thead>\n",
       "    <tr style=\"text-align: right;\">\n",
       "      <th></th>\n",
       "      <th>segment_id</th>\n",
       "      <th>client_status</th>\n",
       "      <th>num_client_status</th>\n",
       "    </tr>\n",
       "  </thead>\n",
       "  <tbody>\n",
       "    <tr>\n",
       "      <th>0</th>\n",
       "      <td>post</td>\n",
       "      <td>Client</td>\n",
       "      <td>4369</td>\n",
       "    </tr>\n",
       "    <tr>\n",
       "      <th>1</th>\n",
       "      <td>post</td>\n",
       "      <td>Lead</td>\n",
       "      <td>108788</td>\n",
       "    </tr>\n",
       "    <tr>\n",
       "      <th>2</th>\n",
       "      <td>telegram</td>\n",
       "      <td>Client</td>\n",
       "      <td>2818</td>\n",
       "    </tr>\n",
       "    <tr>\n",
       "      <th>3</th>\n",
       "      <td>telegram</td>\n",
       "      <td>Lead</td>\n",
       "      <td>41515</td>\n",
       "    </tr>\n",
       "  </tbody>\n",
       "</table>\n",
       "</div>"
      ],
      "text/plain": [
       "  segment_id client_status  num_client_status\n",
       "0       post        Client               4369\n",
       "1       post          Lead             108788\n",
       "2   telegram        Client               2818\n",
       "3   telegram          Lead              41515"
      ]
     },
     "execution_count": 24,
     "metadata": {},
     "output_type": "execute_result"
    }
   ],
   "source": [
    "clientStatus_data = DF.groupby(['segment_id','client_status']).count()[['client_id']].reset_index()\n",
    "clientStatus_data = clientStatus_data.rename(columns={'client_id':'num_client_status'})\n",
    "clientStatus_data"
   ]
  },
  {
   "cell_type": "code",
   "execution_count": 25,
   "id": "c630710b",
   "metadata": {
    "code_folding": [
     0
    ]
   },
   "outputs": [
    {
     "data": {
      "text/html": [
       "<div>\n",
       "<style scoped>\n",
       "    .dataframe tbody tr th:only-of-type {\n",
       "        vertical-align: middle;\n",
       "    }\n",
       "\n",
       "    .dataframe tbody tr th {\n",
       "        vertical-align: top;\n",
       "    }\n",
       "\n",
       "    .dataframe thead th {\n",
       "        text-align: right;\n",
       "    }\n",
       "</style>\n",
       "<table border=\"1\" class=\"dataframe\">\n",
       "  <thead>\n",
       "    <tr style=\"text-align: right;\">\n",
       "      <th></th>\n",
       "      <th>segment_id</th>\n",
       "      <th>convertion_rate(%)</th>\n",
       "    </tr>\n",
       "  </thead>\n",
       "  <tbody>\n",
       "    <tr>\n",
       "      <th>0</th>\n",
       "      <td>post</td>\n",
       "      <td>4.014561</td>\n",
       "    </tr>\n",
       "    <tr>\n",
       "      <th>1</th>\n",
       "      <td>telegram</td>\n",
       "      <td>6.807009</td>\n",
       "    </tr>\n",
       "  </tbody>\n",
       "</table>\n",
       "</div>"
      ],
      "text/plain": [
       "  segment_id  convertion_rate(%)\n",
       "0       post            4.014561\n",
       "1   telegram            6.807009"
      ]
     },
     "execution_count": 25,
     "metadata": {},
     "output_type": "execute_result"
    }
   ],
   "source": [
    "data = {'segment_id': ['post', 'telegram'], \n",
    "        'convertion_rate(%)': [(4323/107683)*100, (2797/41090)*100]}\n",
    "conversion_rateDF = pd.DataFrame(data)\n",
    "conversion_rateDF"
   ]
  },
  {
   "cell_type": "code",
   "execution_count": 35,
   "id": "0cb8e320",
   "metadata": {},
   "outputs": [
    {
     "data": {
      "image/png": "[encoded data removed]",
      "text/plain": [
       "<Figure size 1008x576 with 1 Axes>"
      ]
     },
     "metadata": {},
     "output_type": "display_data"
    }
   ],
   "source": [
    "plt.figure(figsize=(14,8))\n",
    "sizes_=list(conversion_rateDF['convertion_rate(%)'].values)\n",
    "plt.pie(sizes_,\n",
    "        labels=list(conversion_rateDF['convertion_rate(%)'].values),\n",
    "        startangle=90,\n",
    "        shadow=False,\n",
    "        autopct='%1.1f%%')\n",
    "plt.axis('equal')\n",
    "plt.title('% Conversion rate over segment (Post and Telegram)',fontsize=16)\n",
    "plt.show()"
   ]
  },
  {
   "cell_type": "markdown",
   "id": "58739f48",
   "metadata": {},
   "source": [
    "- From the analysis above:\n",
    "\n",
    "  -  More people registered on the app via the \"**POST**\" segment than the \"**TELEGRAM**\" segment\n",
    "\n",
    "  - However, the **TELEGRAM** segment has a higher conversion rate than the \"**POST**\"\n",
    "\n",
    "  - The percentage (%) of clients via the telegram segment is higher than that of the post\n",
    "\n",
    "\n",
    "   "
   ]
  },
  {
   "cell_type": "markdown",
   "id": "08216175",
   "metadata": {},
   "source": [
    "# Q4: Visualizing Deposits over Sources & Channels\n",
    "\n"
   ]
  },
  {
   "cell_type": "markdown",
   "id": "8990b677",
   "metadata": {},
   "source": [
    "- (a)  Deposits distribution over CHANNELS"
   ]
  },
  {
   "cell_type": "code",
   "execution_count": 36,
   "id": "bdf9d486",
   "metadata": {},
   "outputs": [
    {
     "data": {
      "text/html": [
       "<div>\n",
       "<style scoped>\n",
       "    .dataframe tbody tr th:only-of-type {\n",
       "        vertical-align: middle;\n",
       "    }\n",
       "\n",
       "    .dataframe tbody tr th {\n",
       "        vertical-align: top;\n",
       "    }\n",
       "\n",
       "    .dataframe thead th {\n",
       "        text-align: right;\n",
       "    }\n",
       "</style>\n",
       "<table border=\"1\" class=\"dataframe\">\n",
       "  <thead>\n",
       "    <tr style=\"text-align: right;\">\n",
       "      <th></th>\n",
       "      <th>channel</th>\n",
       "      <th>Deposit_Amt($)</th>\n",
       "      <th>Percentage_Deposit(%)</th>\n",
       "    </tr>\n",
       "  </thead>\n",
       "  <tbody>\n",
       "    <tr>\n",
       "      <th>0</th>\n",
       "      <td>affiliate</td>\n",
       "      <td>126217.0</td>\n",
       "      <td>3.627448</td>\n",
       "    </tr>\n",
       "    <tr>\n",
       "      <th>1</th>\n",
       "      <td>direct</td>\n",
       "      <td>378131.0</td>\n",
       "      <td>10.867398</td>\n",
       "    </tr>\n",
       "    <tr>\n",
       "      <th>2</th>\n",
       "      <td>facebook</td>\n",
       "      <td>1523274.0</td>\n",
       "      <td>43.778544</td>\n",
       "    </tr>\n",
       "    <tr>\n",
       "      <th>3</th>\n",
       "      <td>smm</td>\n",
       "      <td>1193167.0</td>\n",
       "      <td>34.291345</td>\n",
       "    </tr>\n",
       "    <tr>\n",
       "      <th>4</th>\n",
       "      <td>social media</td>\n",
       "      <td>258710.0</td>\n",
       "      <td>7.435266</td>\n",
       "    </tr>\n",
       "  </tbody>\n",
       "</table>\n",
       "</div>"
      ],
      "text/plain": [
       "        channel  Deposit_Amt($)  Percentage_Deposit(%)\n",
       "0     affiliate        126217.0               3.627448\n",
       "1        direct        378131.0              10.867398\n",
       "2      facebook       1523274.0              43.778544\n",
       "3           smm       1193167.0              34.291345\n",
       "4  social media        258710.0               7.435266"
      ]
     },
     "execution_count": 36,
     "metadata": {},
     "output_type": "execute_result"
    }
   ],
   "source": [
    "           ##creating a table showing \"Deposit_Amount\" and \"% Deposit\" per channel\n",
    "channelDepo_DF = DF[['channel','depo']].groupby(['channel']).sum().reset_index()\n",
    "channelDepo_DF['Percentage_Deposit(%)'] = (channelDepo_DF['depo']/channelDepo_DF['depo'].sum())*100\n",
    "channelDepo_DF = channelDepo_DF.rename(columns={'depo':'Deposit_Amt($)'})\n",
    "channelDepo_DF"
   ]
  },
  {
   "cell_type": "code",
   "execution_count": 37,
   "id": "d9143372",
   "metadata": {},
   "outputs": [
    {
     "data": {
      "image/png": "[encoded data removed]",
      "text/plain": [
       "<Figure size 1008x576 with 1 Axes>"
      ]
     },
     "metadata": {},
     "output_type": "display_data"
    }
   ],
   "source": [
    "plt.figure(figsize=(14,8))\n",
    "sizes_=list(channelDepo_DF['Percentage_Deposit(%)'].values)\n",
    "plt.pie(sizes_,\n",
    "        labels=list(channelDepo_DF['channel'].values),\n",
    "        startangle=90,\n",
    "        shadow=False,\n",
    "        autopct='%1.1f%%')\n",
    "plt.axis('equal')\n",
    "plt.title('% Distribution of Client Deposit over all Channels',fontsize=16)\n",
    "plt.show()"
   ]
  },
  {
   "cell_type": "markdown",
   "id": "238ae7f6",
   "metadata": {},
   "source": [
    "- **FACEBOOK**  channel has the largest percentage of client deposit ;\n",
    "\n",
    "  - Contributing ~44% of all deposits with $1,523,017\n",
    "\n",
    "- **AFFLIATE** channel has the smallest percentage of client deposit ;\n",
    "\n",
    "  - Contributing ~4% of all deposits with $125,988 deposit amount\n",
    "\n",
    "- The distribution of deposit on other channels are;\n",
    "\n",
    "     - **SMM** with ~34% ($1,192,396)\n",
    "\n",
    "     - **DIRECT** with ~11% ($377,976)\n",
    "\n",
    "     - **SOCIAL MEDIA** with ~7% ($258,034) "
   ]
  },
  {
   "cell_type": "code",
   "execution_count": null,
   "id": "07fbcb76",
   "metadata": {},
   "outputs": [],
   "source": []
  },
  {
   "cell_type": "markdown",
   "id": "4721dcfa",
   "metadata": {},
   "source": [
    "- (B) Deposits distribution over SOURCE"
   ]
  },
  {
   "cell_type": "code",
   "execution_count": 38,
   "id": "63308696",
   "metadata": {},
   "outputs": [
    {
     "data": {
      "text/html": [
       "<div>\n",
       "<style scoped>\n",
       "    .dataframe tbody tr th:only-of-type {\n",
       "        vertical-align: middle;\n",
       "    }\n",
       "\n",
       "    .dataframe tbody tr th {\n",
       "        vertical-align: top;\n",
       "    }\n",
       "\n",
       "    .dataframe thead th {\n",
       "        text-align: right;\n",
       "    }\n",
       "</style>\n",
       "<table border=\"1\" class=\"dataframe\">\n",
       "  <thead>\n",
       "    <tr style=\"text-align: right;\">\n",
       "      <th></th>\n",
       "      <th>segment_id</th>\n",
       "      <th>Deposit_Amt($)</th>\n",
       "      <th>Percentage_Deposit(%)</th>\n",
       "    </tr>\n",
       "  </thead>\n",
       "  <tbody>\n",
       "    <tr>\n",
       "      <th>0</th>\n",
       "      <td>post</td>\n",
       "      <td>2478795.0</td>\n",
       "      <td>70.8002</td>\n",
       "    </tr>\n",
       "    <tr>\n",
       "      <th>1</th>\n",
       "      <td>telegram</td>\n",
       "      <td>1022318.0</td>\n",
       "      <td>29.1998</td>\n",
       "    </tr>\n",
       "  </tbody>\n",
       "</table>\n",
       "</div>"
      ],
      "text/plain": [
       "  segment_id  Deposit_Amt($)  Percentage_Deposit(%)\n",
       "0       post       2478795.0                70.8002\n",
       "1   telegram       1022318.0                29.1998"
      ]
     },
     "execution_count": 38,
     "metadata": {},
     "output_type": "execute_result"
    }
   ],
   "source": [
    "SourceDepo_DF = DF[['segment_id','depo']].groupby(['segment_id']).sum().reset_index()\n",
    "SourceDepo_DF['Percentage_Deposit(%)'] = (SourceDepo_DF['depo']/SourceDepo_DF['depo'].sum())*100\n",
    "SourceDepo_DF.rename(columns={'depo':'Deposit_Amt($)'})"
   ]
  },
  {
   "cell_type": "code",
   "execution_count": 39,
   "id": "9870007e",
   "metadata": {},
   "outputs": [
    {
     "data": {
      "image/png": "[encoded data removed]",
      "text/plain": [
       "<Figure size 864x576 with 1 Axes>"
      ]
     },
     "metadata": {
      "needs_background": "light"
     },
     "output_type": "display_data"
    }
   ],
   "source": [
    "frequencies = [70.776592, 29.223408]\n",
    "freq_series = pd.Series(frequencies)\n",
    "\n",
    "# Plot the figure.\n",
    "plt.figure(figsize=(12, 8))\n",
    "ax = freq_series.plot(kind=\"bar\")\n",
    "plt.title('% Distribution of Client Deposit over all Source',fontsize=16)\n",
    "plt.ylabel(\"% DepositAmount\", fontsize=15)\n",
    "plt.xlabel(\"Source\",fontsize=15)\n",
    "ax.set_xticklabels(['Post', 'Telegram'])\n",
    "plt.grid()\n",
    "\n",
    "rects = ax.patches\n",
    "\n",
    "# Make some labels.\n",
    "labels = ['$2,461,193','$1,016,218']\n",
    "\n",
    "for rect, label in zip(rects, labels):\n",
    "    height = rect.get_height()\n",
    "    ax.text(\n",
    "        rect.get_x() + rect.get_width() / 2, \n",
    "        height+1, \n",
    "        label, \n",
    "        ha=\"center\", \n",
    "        va=\"bottom\")\n",
    "\n",
    "plt.show()"
   ]
  },
  {
   "cell_type": "markdown",
   "id": "b7bc4b16",
   "metadata": {},
   "source": [
    "- As shown from the bar plot above:\n",
    "\n",
    "  - The \"**Post**(Article)\" source constitute a total ~71% of all deposits ($2,461,193)\n",
    "\n",
    " - While the \"**Telegram**\" source consistute a total ~29% of all deposit ($1,016,218)\n",
    "  - Therefore, the more profitable source is the \"**POST** (Article)\"\n",
    "\n",
    "  "
   ]
  },
  {
   "cell_type": "markdown",
   "id": "1a139030",
   "metadata": {},
   "source": [
    "# SECTION C :"
   ]
  },
  {
   "cell_type": "markdown",
   "id": "2c6a1ad8",
   "metadata": {},
   "source": [
    "# Additional Analysis"
   ]
  },
  {
   "cell_type": "markdown",
   "id": "0f5725f2",
   "metadata": {},
   "source": [
    "## Latency  "
   ]
  },
  {
   "cell_type": "code",
   "execution_count": 40,
   "id": "5c1abda6",
   "metadata": {},
   "outputs": [
    {
     "data": {
      "text/plain": [
       "0         IN\n",
       "1         FR\n",
       "3         DE\n",
       "4         LT\n",
       "6         ES\n",
       "          ..\n",
       "219309    DE\n",
       "219310    US\n",
       "219311    MO\n",
       "219312    MO\n",
       "219313    US\n",
       "Name: country, Length: 157490, dtype: object"
      ]
     },
     "execution_count": 40,
     "metadata": {},
     "output_type": "execute_result"
    }
   ],
   "source": [
    "DF['country']"
   ]
  },
  {
   "cell_type": "code",
   "execution_count": 41,
   "id": "38f3000d",
   "metadata": {},
   "outputs": [
    {
     "data": {
      "image/png": "[encoded data removed]",
      "text/plain": [
       "<Figure size 864x576 with 1 Axes>"
      ]
     },
     "metadata": {
      "needs_background": "light"
     },
     "output_type": "display_data"
    }
   ],
   "source": [
    "DF= DF.replace(to_replace= {'IN': 'India','FR':'France','DE': 'Germany','LT': 'Lithuania','ES':'Spain','VN' :'Vietnam','LU' : 'Luxembourg', 'US':'United States','IT' : 'Italy','IS': 'Iceland','MO':'Macau'})\n",
    "\n",
    "#country with fast latency #visualise\n",
    "plt.figure(figsize=(12,8))\n",
    "sns.lineplot(x = 'country', y = 'latency', data = DF)\n",
    " \n",
    "# Show the plot\n",
    "plt.show()"
   ]
  },
  {
   "cell_type": "markdown",
   "id": "cdd7e3c5",
   "metadata": {},
   "source": [
    "Iceland has the quickest app loading, this can be due to high/ fast network access and France has the slowest application load time"
   ]
  },
  {
   "cell_type": "markdown",
   "id": "64d96caf",
   "metadata": {},
   "source": [
    "## Segment (Source) across all channels"
   ]
  },
  {
   "cell_type": "code",
   "execution_count": 42,
   "id": "1297c873",
   "metadata": {
    "scrolled": true
   },
   "outputs": [
    {
     "data": {
      "image/png": "[encoded data removed]",
      "text/plain": [
       "<Figure size 864x432 with 1 Axes>"
      ]
     },
     "metadata": {
      "needs_background": "light"
     },
     "output_type": "display_data"
    }
   ],
   "source": [
    "plt.figure(figsize=(12,6))\n",
    "sns.countplot(data=DF, x=\"segment_id\", hue=\"channel\")\n",
    "plt.show()"
   ]
  },
  {
   "cell_type": "markdown",
   "id": "cee7a2e7",
   "metadata": {},
   "source": [
    "- From Segment vs Channel \n",
    "    - Facebook account for the largest channel both for Post and Telegram"
   ]
  },
  {
   "cell_type": "markdown",
   "id": "693616ff",
   "metadata": {},
   "source": [
    "## Countries with its major Source"
   ]
  },
  {
   "cell_type": "code",
   "execution_count": 55,
   "id": "09618bc8",
   "metadata": {
    "scrolled": true
   },
   "outputs": [
    {
     "data": {
      "image/png": "[encoded data removed]",
      "text/plain": [
       "<Figure size 864x432 with 1 Axes>"
      ]
     },
     "metadata": {
      "needs_background": "light"
     },
     "output_type": "display_data"
    }
   ],
   "source": [
    "plt.figure(figsize=(12,6))\n",
    "sns.countplot(data=DF, x=\"country\", hue=\"segment_id\")\n",
    "plt.show()"
   ]
  },
  {
   "cell_type": "markdown",
   "id": "4ad53413",
   "metadata": {},
   "source": [
    "Post (Article) is the major source across all the countries"
   ]
  },
  {
   "cell_type": "markdown",
   "id": "5c1333b8",
   "metadata": {},
   "source": [
    "## Most used Channel across Countries"
   ]
  },
  {
   "cell_type": "code",
   "execution_count": 99,
   "id": "267a6777",
   "metadata": {},
   "outputs": [
    {
     "data": {
      "image/png": "[encoded data removed]",
      "text/plain": [
       "<Figure size 864x432 with 1 Axes>"
      ]
     },
     "metadata": {
      "needs_background": "light"
     },
     "output_type": "display_data"
    }
   ],
   "source": [
    "plt.figure(figsize=(12,6))\n",
    "sns.countplot(data=DF, x=\"country\", hue=\"channel\")\n",
    "plt.show()"
   ]
  },
  {
   "cell_type": "markdown",
   "id": "24c2cd7c",
   "metadata": {},
   "source": [
    "facebook has the highest engagement across all the listed countries"
   ]
  },
  {
   "cell_type": "markdown",
   "id": "e3aba1db",
   "metadata": {},
   "source": [
    "## Correlation"
   ]
  },
  {
   "cell_type": "code",
   "execution_count": 48,
   "id": "0f65fdee",
   "metadata": {},
   "outputs": [
    {
     "data": {
      "text/html": [
       "<div>\n",
       "<style scoped>\n",
       "    .dataframe tbody tr th:only-of-type {\n",
       "        vertical-align: middle;\n",
       "    }\n",
       "\n",
       "    .dataframe tbody tr th {\n",
       "        vertical-align: top;\n",
       "    }\n",
       "\n",
       "    .dataframe thead th {\n",
       "        text-align: right;\n",
       "    }\n",
       "</style>\n",
       "<table border=\"1\" class=\"dataframe\">\n",
       "  <thead>\n",
       "    <tr style=\"text-align: right;\">\n",
       "      <th></th>\n",
       "      <th>client_id</th>\n",
       "      <th>depo</th>\n",
       "      <th>clicks</th>\n",
       "      <th>latency</th>\n",
       "    </tr>\n",
       "  </thead>\n",
       "  <tbody>\n",
       "    <tr>\n",
       "      <th>client_id</th>\n",
       "      <td>1.000000</td>\n",
       "      <td>-0.004329</td>\n",
       "      <td>0.003555</td>\n",
       "      <td>0.006753</td>\n",
       "    </tr>\n",
       "    <tr>\n",
       "      <th>depo</th>\n",
       "      <td>-0.004329</td>\n",
       "      <td>1.000000</td>\n",
       "      <td>0.001114</td>\n",
       "      <td>0.030904</td>\n",
       "    </tr>\n",
       "    <tr>\n",
       "      <th>clicks</th>\n",
       "      <td>0.003555</td>\n",
       "      <td>0.001114</td>\n",
       "      <td>1.000000</td>\n",
       "      <td>-0.009471</td>\n",
       "    </tr>\n",
       "    <tr>\n",
       "      <th>latency</th>\n",
       "      <td>0.006753</td>\n",
       "      <td>0.030904</td>\n",
       "      <td>-0.009471</td>\n",
       "      <td>1.000000</td>\n",
       "    </tr>\n",
       "  </tbody>\n",
       "</table>\n",
       "</div>"
      ],
      "text/plain": [
       "           client_id      depo    clicks   latency\n",
       "client_id   1.000000 -0.004329  0.003555  0.006753\n",
       "depo       -0.004329  1.000000  0.001114  0.030904\n",
       "clicks      0.003555  0.001114  1.000000 -0.009471\n",
       "latency     0.006753  0.030904 -0.009471  1.000000"
      ]
     },
     "execution_count": 48,
     "metadata": {},
     "output_type": "execute_result"
    }
   ],
   "source": [
    "DF.corr()"
   ]
  },
  {
   "cell_type": "code",
   "execution_count": 51,
   "id": "0043216a",
   "metadata": {},
   "outputs": [
    {
     "data": {
      "image/png": "[encoded data removed]",
      "text/plain": [
       "<Figure size 432x288 with 2 Axes>"
      ]
     },
     "metadata": {
      "needs_background": "light"
     },
     "output_type": "display_data"
    }
   ],
   "source": [
    "heatmap = sns.heatmap(DF.corr(), vmin=-1, vmax=1, annot=True)\n",
    "heatmap.set_title('Correlation Heatmap', fontdict={'fontsize':12}, pad=12);"
   ]
  },
  {
   "cell_type": "markdown",
   "id": "c95da160",
   "metadata": {},
   "source": [
    "#  CONCLUSION"
   ]
  },
  {
   "cell_type": "markdown",
   "id": "93b7d4be",
   "metadata": {},
   "source": [
    "Conclusion can be drawn from the analytical task done on the provided data that:\n",
    "   - **Telegram** has higher conversion rate than Post (Article)\n",
    "   - More amount of **Deposit** came through the sign-up from the Post. \n",
    "   - **Facebook**  is the most used channel across the countries.\n",
    "   - the **mobile app** still has it users in 3 continents ( **Europe** with **7** countries followed by **Asia** with **3** countries and **USA** is the only country from **North America**)\n",
    "   - **Germany** has the highest mobile app Users\n",
    "   \n",
    "  \n",
    "  **Recomendation**\n",
    "- I will recommend that the marketing team, increase the Facebook Ads of the mobile app across countries, \n",
    "     - and if the team is looking at increase her reach to other countries **Facebook** will be considered the best Channel to attract potential Client (Leads).\n",
    "- I also recommend that marketing be intensified through **Telegram** source as it has the highest conversion rate.\n",
    "\n"
   ]
  },
  {
   "cell_type": "code",
   "execution_count": null,
   "id": "6e2acaa6",
   "metadata": {},
   "outputs": [],
   "source": []
  }
 ],
 "metadata": {
  "kernelspec": {
   "display_name": "Python 3 (ipykernel)",
   "language": "python",
   "name": "python3"
  },
  "language_info": {
   "codemirror_mode": {
    "name": "ipython",
    "version": 3
   },
   "file_extension": ".py",
   "mimetype": "text/x-python",
   "name": "python",
   "nbconvert_exporter": "python",
   "pygments_lexer": "ipython3",
   "version": "3.8.12"
  },
  "toc": {
   "base_numbering": 1,
   "nav_menu": {},
   "number_sections": false,
   "sideBar": true,
   "skip_h1_title": false,
   "title_cell": "Table of Contents",
   "title_sidebar": " Table of Contents",
   "toc_cell": true,
   "toc_position": {},
   "toc_section_display": true,
   "toc_window_display": true
  }
 },
 "nbformat": 4,
 "nbformat_minor": 5
}
