{
 "cells": [
  {
   "attachments": {
    "libertex.png": {
     "image/png": "[encoded data removed]"
    }
   },
   "cell_type": "markdown",
   "id": "a2313b02",
   "metadata": {},
   "source": [
    "![libertex.png](attachment:libertex.png)"
   ]
  },
  {
   "cell_type": "markdown",
   "id": "bea69e32",
   "metadata": {},
   "source": [
    "#  Understanding the Business problem (mobile app statistics)"
   ]
  },
  {
   "cell_type": "code",
   "execution_count": 1,
   "id": "8690e83e",
   "metadata": {},
   "outputs": [
    {
     "ename": "SyntaxError",
     "evalue": "invalid syntax (Temp/ipykernel_3952/1481664807.py, line 1)",
     "output_type": "error",
     "traceback": [
      "\u001b[1;36m  File \u001b[1;32m\"C:\\Users\\User\\AppData\\Local\\Temp/ipykernel_3952/1481664807.py\"\u001b[1;36m, line \u001b[1;32m1\u001b[0m\n\u001b[1;33m    write short description\u001b[0m\n\u001b[1;37m          ^\u001b[0m\n\u001b[1;31mSyntaxError\u001b[0m\u001b[1;31m:\u001b[0m invalid syntax\n"
     ]
    }
   ],
   "source": [
    "write short description\n",
    "\n"
   ]
  },
  {
   "cell_type": "markdown",
   "id": "8d911f86",
   "metadata": {},
   "source": [
    "# Import the python libraries"
   ]
  },
  {
   "cell_type": "markdown",
   "id": "49486996",
   "metadata": {},
   "source": [
    "\n",
    "Here we will be importing all neccessary libraries making it our library coven."
   ]
  },
  {
   "cell_type": "code",
   "execution_count": 1,
   "id": "586dbe55",
   "metadata": {},
   "outputs": [],
   "source": [
    "import os\n",
    "import numpy as np # linear algebra\n",
    "import pandas as pd # data processing, CSV file I/O (e.g. pd.read_csv)\n",
    "pd.set_option('max_columns', None)\n",
    "import matplotlib.pyplot as plt\n",
    "%matplotlib inline\n",
    "import seaborn as sns\n",
    "import plotly.express as px\n",
    "import warnings\n",
    "warnings.filterwarnings('ignore')\n",
    "import plotly as py\n",
    "import plotly.express as px\n",
    "import plotly.offline as py\n"
   ]
  },
  {
   "cell_type": "markdown",
   "id": "a5b38aac",
   "metadata": {},
   "source": [
    "import dataset"
   ]
  },
  {
   "cell_type": "code",
   "execution_count": 2,
   "id": "99746b7d",
   "metadata": {},
   "outputs": [],
   "source": [
    "ClientProfile = pd.read_csv('synthetic_data.csv')\n",
    "ClientCountry =pd.read_csv('countries(1).csv')"
   ]
  },
  {
   "cell_type": "markdown",
   "id": "0459e31e",
   "metadata": {},
   "source": [
    "# Data Cleaning"
   ]
  },
  {
   "cell_type": "markdown",
   "id": "9319b47b",
   "metadata": {},
   "source": [
    "As my usual practice, I prefer writing short modules as tool for exploration analysis. It makes work faster and effective. It also prevents code repetation.\n",
    "\n",
    "In this area we will be writing functions for data description, information on data, highlights (head), to display columns, shapes of data and as well as to display missing values."
   ]
  },
  {
   "cell_type": "markdown",
   "id": "b3746bc0",
   "metadata": {},
   "source": [
    "From the output of the summary statistics, Outliers can be observed in the depo column. Obviously, negative payment can not be deposited so this indicates that we need to check for outliers.\n",
    "\n",
    "The info output indicates a different row number total in channel column. This indicates the presence of missing values in channel column. The info out put also label the data type to show us what data-type we are dealing with.\n",
    "\n"
   ]
  },
  {
   "cell_type": "code",
   "execution_count": 3,
   "id": "d78a0f0d",
   "metadata": {},
   "outputs": [],
   "source": [
    "def data_description(data):\n",
    "    return (data.describe())\n",
    "\n",
    "def data_info(data):\n",
    "    return (data.info())\n",
    "\n",
    "def data_head(data):\n",
    "    return (data.head())\n",
    "\n",
    "def data_column(data):\n",
    "    return (data.columns)\n",
    "\n",
    "def data_size(data):\n",
    "    return (data.shape)\n",
    "\n",
    "def missing_data(data):\n",
    "    total = data.isnull().sum()\n",
    "    percent = (total/data.isnull().count()*100)\n",
    "    missing_columns = pd.concat([total, percent], axis = 1, keys = [\"Total\", \"Percent\"])\n",
    "    types = []\n",
    "    for col in data.columns:\n",
    "        dtype = str(data[col].dtype)\n",
    "        types.append(dtype)\n",
    "    missing_columns[\"Types\"] = types\n",
    "    return(np.transpose(missing_columns))"
   ]
  },
  {
   "cell_type": "code",
   "execution_count": 4,
   "id": "14bfa664",
   "metadata": {},
   "outputs": [
    {
     "data": {
      "text/html": [
       "<div>\n",
       "<style scoped>\n",
       "    .dataframe tbody tr th:only-of-type {\n",
       "        vertical-align: middle;\n",
       "    }\n",
       "\n",
       "    .dataframe tbody tr th {\n",
       "        vertical-align: top;\n",
       "    }\n",
       "\n",
       "    .dataframe thead th {\n",
       "        text-align: right;\n",
       "    }\n",
       "</style>\n",
       "<table border=\"1\" class=\"dataframe\">\n",
       "  <thead>\n",
       "    <tr style=\"text-align: right;\">\n",
       "      <th></th>\n",
       "      <th>Unnamed: 0</th>\n",
       "      <th>depo</th>\n",
       "      <th>segment</th>\n",
       "      <th>channel</th>\n",
       "      <th>clicks</th>\n",
       "      <th>latency</th>\n",
       "      <th>client_id</th>\n",
       "    </tr>\n",
       "  </thead>\n",
       "  <tbody>\n",
       "    <tr>\n",
       "      <th>0</th>\n",
       "      <td>0</td>\n",
       "      <td>0.0</td>\n",
       "      <td>postid_4057</td>\n",
       "      <td>smm</td>\n",
       "      <td>1.0</td>\n",
       "      <td>2.649725</td>\n",
       "      <td>1442498.0</td>\n",
       "    </tr>\n",
       "    <tr>\n",
       "      <th>1</th>\n",
       "      <td>1</td>\n",
       "      <td>0.0</td>\n",
       "      <td>telegram</td>\n",
       "      <td>affiliate</td>\n",
       "      <td>10.0</td>\n",
       "      <td>2.610846</td>\n",
       "      <td>7865631.0</td>\n",
       "    </tr>\n",
       "    <tr>\n",
       "      <th>2</th>\n",
       "      <td>2</td>\n",
       "      <td>0.0</td>\n",
       "      <td>postid_8542</td>\n",
       "      <td>facebook</td>\n",
       "      <td>13.0</td>\n",
       "      <td>3.001162</td>\n",
       "      <td>8165584.0</td>\n",
       "    </tr>\n",
       "    <tr>\n",
       "      <th>3</th>\n",
       "      <td>3</td>\n",
       "      <td>0.0</td>\n",
       "      <td>telegram</td>\n",
       "      <td>direct</td>\n",
       "      <td>0.0</td>\n",
       "      <td>1.788369</td>\n",
       "      <td>5893056.0</td>\n",
       "    </tr>\n",
       "    <tr>\n",
       "      <th>4</th>\n",
       "      <td>4</td>\n",
       "      <td>0.0</td>\n",
       "      <td>telegram</td>\n",
       "      <td>smm</td>\n",
       "      <td>0.0</td>\n",
       "      <td>1.932069</td>\n",
       "      <td>3780924.0</td>\n",
       "    </tr>\n",
       "  </tbody>\n",
       "</table>\n",
       "</div>"
      ],
      "text/plain": [
       "   Unnamed: 0  depo      segment    channel  clicks   latency  client_id\n",
       "0           0   0.0  postid_4057        smm     1.0  2.649725  1442498.0\n",
       "1           1   0.0     telegram  affiliate    10.0  2.610846  7865631.0\n",
       "2           2   0.0  postid_8542   facebook    13.0  3.001162  8165584.0\n",
       "3           3   0.0     telegram     direct     0.0  1.788369  5893056.0\n",
       "4           4   0.0     telegram        smm     0.0  1.932069  3780924.0"
      ]
     },
     "execution_count": 4,
     "metadata": {},
     "output_type": "execute_result"
    }
   ],
   "source": [
    "ClientProfile.head()"
   ]
  },
  {
   "cell_type": "code",
   "execution_count": 48,
   "id": "05c4e0e6",
   "metadata": {},
   "outputs": [
    {
     "data": {
      "text/html": [
       "<div>\n",
       "<style scoped>\n",
       "    .dataframe tbody tr th:only-of-type {\n",
       "        vertical-align: middle;\n",
       "    }\n",
       "\n",
       "    .dataframe tbody tr th {\n",
       "        vertical-align: top;\n",
       "    }\n",
       "\n",
       "    .dataframe thead th {\n",
       "        text-align: right;\n",
       "    }\n",
       "</style>\n",
       "<table border=\"1\" class=\"dataframe\">\n",
       "  <thead>\n",
       "    <tr style=\"text-align: right;\">\n",
       "      <th></th>\n",
       "      <th>country</th>\n",
       "      <th>client_id</th>\n",
       "    </tr>\n",
       "  </thead>\n",
       "  <tbody>\n",
       "    <tr>\n",
       "      <th>0</th>\n",
       "      <td>IN</td>\n",
       "      <td>6348826</td>\n",
       "    </tr>\n",
       "    <tr>\n",
       "      <th>1</th>\n",
       "      <td>FR</td>\n",
       "      <td>6751691</td>\n",
       "    </tr>\n",
       "    <tr>\n",
       "      <th>2</th>\n",
       "      <td>DE</td>\n",
       "      <td>8638448</td>\n",
       "    </tr>\n",
       "    <tr>\n",
       "      <th>3</th>\n",
       "      <td>LT</td>\n",
       "      <td>4722696</td>\n",
       "    </tr>\n",
       "    <tr>\n",
       "      <th>4</th>\n",
       "      <td>ES</td>\n",
       "      <td>2411132</td>\n",
       "    </tr>\n",
       "  </tbody>\n",
       "</table>\n",
       "</div>"
      ],
      "text/plain": [
       "  country  client_id\n",
       "0      IN    6348826\n",
       "1      FR    6751691\n",
       "2      DE    8638448\n",
       "3      LT    4722696\n",
       "4      ES    2411132"
      ]
     },
     "execution_count": 48,
     "metadata": {},
     "output_type": "execute_result"
    }
   ],
   "source": [
    "ClientCountry.head()"
   ]
  },
  {
   "cell_type": "markdown",
   "id": "7458c41c",
   "metadata": {},
   "source": [
    "merging the two datasets"
   ]
  },
  {
   "cell_type": "code",
   "execution_count": 3,
   "id": "fea4ef49",
   "metadata": {},
   "outputs": [
    {
     "data": {
      "text/html": [
       "<div>\n",
       "<style scoped>\n",
       "    .dataframe tbody tr th:only-of-type {\n",
       "        vertical-align: middle;\n",
       "    }\n",
       "\n",
       "    .dataframe tbody tr th {\n",
       "        vertical-align: top;\n",
       "    }\n",
       "\n",
       "    .dataframe thead th {\n",
       "        text-align: right;\n",
       "    }\n",
       "</style>\n",
       "<table border=\"1\" class=\"dataframe\">\n",
       "  <thead>\n",
       "    <tr style=\"text-align: right;\">\n",
       "      <th></th>\n",
       "      <th>country</th>\n",
       "      <th>client_id</th>\n",
       "      <th>Unnamed: 0</th>\n",
       "      <th>depo</th>\n",
       "      <th>segment</th>\n",
       "      <th>channel</th>\n",
       "      <th>clicks</th>\n",
       "      <th>latency</th>\n",
       "    </tr>\n",
       "  </thead>\n",
       "  <tbody>\n",
       "    <tr>\n",
       "      <th>0</th>\n",
       "      <td>IN</td>\n",
       "      <td>6348826</td>\n",
       "      <td>135788</td>\n",
       "      <td>0.0</td>\n",
       "      <td>postid_2272</td>\n",
       "      <td>social media</td>\n",
       "      <td>22.0</td>\n",
       "      <td>3.571894</td>\n",
       "    </tr>\n",
       "    <tr>\n",
       "      <th>1</th>\n",
       "      <td>FR</td>\n",
       "      <td>6751691</td>\n",
       "      <td>30285</td>\n",
       "      <td>0.0</td>\n",
       "      <td>postid_275</td>\n",
       "      <td>smm</td>\n",
       "      <td>0.0</td>\n",
       "      <td>0.942220</td>\n",
       "    </tr>\n",
       "    <tr>\n",
       "      <th>2</th>\n",
       "      <td>FR</td>\n",
       "      <td>6751691</td>\n",
       "      <td>30285</td>\n",
       "      <td>0.0</td>\n",
       "      <td>postid_275</td>\n",
       "      <td>smm</td>\n",
       "      <td>0.0</td>\n",
       "      <td>0.942220</td>\n",
       "    </tr>\n",
       "    <tr>\n",
       "      <th>3</th>\n",
       "      <td>DE</td>\n",
       "      <td>8638448</td>\n",
       "      <td>99020</td>\n",
       "      <td>0.0</td>\n",
       "      <td>telegram</td>\n",
       "      <td>facebook</td>\n",
       "      <td>19.0</td>\n",
       "      <td>2.801449</td>\n",
       "    </tr>\n",
       "    <tr>\n",
       "      <th>4</th>\n",
       "      <td>LT</td>\n",
       "      <td>4722696</td>\n",
       "      <td>23716</td>\n",
       "      <td>307.0</td>\n",
       "      <td>telegram</td>\n",
       "      <td>social media</td>\n",
       "      <td>26.0</td>\n",
       "      <td>1.458857</td>\n",
       "    </tr>\n",
       "    <tr>\n",
       "      <th>...</th>\n",
       "      <td>...</td>\n",
       "      <td>...</td>\n",
       "      <td>...</td>\n",
       "      <td>...</td>\n",
       "      <td>...</td>\n",
       "      <td>...</td>\n",
       "      <td>...</td>\n",
       "      <td>...</td>\n",
       "    </tr>\n",
       "    <tr>\n",
       "      <th>219309</th>\n",
       "      <td>DE</td>\n",
       "      <td>2626295</td>\n",
       "      <td>64380</td>\n",
       "      <td>385.0</td>\n",
       "      <td>postid_9076</td>\n",
       "      <td>facebook</td>\n",
       "      <td>0.0</td>\n",
       "      <td>4.490812</td>\n",
       "    </tr>\n",
       "    <tr>\n",
       "      <th>219310</th>\n",
       "      <td>US</td>\n",
       "      <td>7817131</td>\n",
       "      <td>69527</td>\n",
       "      <td>0.0</td>\n",
       "      <td>telegram</td>\n",
       "      <td>smm</td>\n",
       "      <td>0.0</td>\n",
       "      <td>2.966362</td>\n",
       "    </tr>\n",
       "    <tr>\n",
       "      <th>219311</th>\n",
       "      <td>MO</td>\n",
       "      <td>1023767</td>\n",
       "      <td>112098</td>\n",
       "      <td>0.0</td>\n",
       "      <td>postid_7202</td>\n",
       "      <td>social media</td>\n",
       "      <td>3.0</td>\n",
       "      <td>3.704628</td>\n",
       "    </tr>\n",
       "    <tr>\n",
       "      <th>219312</th>\n",
       "      <td>MO</td>\n",
       "      <td>7518683</td>\n",
       "      <td>119055</td>\n",
       "      <td>0.0</td>\n",
       "      <td>postid_4200</td>\n",
       "      <td>smm</td>\n",
       "      <td>4.0</td>\n",
       "      <td>3.258969</td>\n",
       "    </tr>\n",
       "    <tr>\n",
       "      <th>219313</th>\n",
       "      <td>US</td>\n",
       "      <td>5408624</td>\n",
       "      <td>67671</td>\n",
       "      <td>0.0</td>\n",
       "      <td>postid_1085</td>\n",
       "      <td>smm</td>\n",
       "      <td>1.0</td>\n",
       "      <td>1.805891</td>\n",
       "    </tr>\n",
       "  </tbody>\n",
       "</table>\n",
       "<p>219314 rows × 8 columns</p>\n",
       "</div>"
      ],
      "text/plain": [
       "       country  client_id  Unnamed: 0   depo      segment       channel  \\\n",
       "0           IN    6348826      135788    0.0  postid_2272  social media   \n",
       "1           FR    6751691       30285    0.0   postid_275           smm   \n",
       "2           FR    6751691       30285    0.0   postid_275           smm   \n",
       "3           DE    8638448       99020    0.0     telegram      facebook   \n",
       "4           LT    4722696       23716  307.0     telegram  social media   \n",
       "...        ...        ...         ...    ...          ...           ...   \n",
       "219309      DE    2626295       64380  385.0  postid_9076      facebook   \n",
       "219310      US    7817131       69527    0.0     telegram           smm   \n",
       "219311      MO    1023767      112098    0.0  postid_7202  social media   \n",
       "219312      MO    7518683      119055    0.0  postid_4200           smm   \n",
       "219313      US    5408624       67671    0.0  postid_1085           smm   \n",
       "\n",
       "        clicks   latency  \n",
       "0         22.0  3.571894  \n",
       "1          0.0  0.942220  \n",
       "2          0.0  0.942220  \n",
       "3         19.0  2.801449  \n",
       "4         26.0  1.458857  \n",
       "...        ...       ...  \n",
       "219309     0.0  4.490812  \n",
       "219310     0.0  2.966362  \n",
       "219311     3.0  3.704628  \n",
       "219312     4.0  3.258969  \n",
       "219313     1.0  1.805891  \n",
       "\n",
       "[219314 rows x 8 columns]"
      ]
     },
     "execution_count": 3,
     "metadata": {},
     "output_type": "execute_result"
    }
   ],
   "source": [
    "df1 = pd.merge(ClientCountry, ClientProfile, on = \"client_id\")\n",
    "df1\n"
   ]
  },
  {
   "cell_type": "markdown",
   "id": "df251446",
   "metadata": {},
   "source": [
    "check for data size, columns, data info, data description"
   ]
  },
  {
   "cell_type": "code",
   "execution_count": 6,
   "id": "d6acb4d3",
   "metadata": {},
   "outputs": [
    {
     "data": {
      "text/plain": [
       "(219314, 8)"
      ]
     },
     "execution_count": 6,
     "metadata": {},
     "output_type": "execute_result"
    }
   ],
   "source": [
    "data_size(df1)"
   ]
  },
  {
   "cell_type": "code",
   "execution_count": 8,
   "id": "19e857ba",
   "metadata": {},
   "outputs": [
    {
     "data": {
      "text/plain": [
       "Index(['country', 'client_id', 'Unnamed: 0', 'depo', 'segment', 'channel',\n",
       "       'clicks', 'latency'],\n",
       "      dtype='object')"
      ]
     },
     "execution_count": 8,
     "metadata": {},
     "output_type": "execute_result"
    }
   ],
   "source": [
    "data_column(df1)"
   ]
  },
  {
   "cell_type": "code",
   "execution_count": 9,
   "id": "c091bb56",
   "metadata": {},
   "outputs": [
    {
     "name": "stdout",
     "output_type": "stream",
     "text": [
      "<class 'pandas.core.frame.DataFrame'>\n",
      "Int64Index: 219314 entries, 0 to 219313\n",
      "Data columns (total 8 columns):\n",
      " #   Column      Non-Null Count   Dtype  \n",
      "---  ------      --------------   -----  \n",
      " 0   country     219314 non-null  object \n",
      " 1   client_id   219314 non-null  int64  \n",
      " 2   Unnamed: 0  219314 non-null  int64  \n",
      " 3   depo        219314 non-null  float64\n",
      " 4   segment     219314 non-null  object \n",
      " 5   channel     217065 non-null  object \n",
      " 6   clicks      219314 non-null  float64\n",
      " 7   latency     219314 non-null  float64\n",
      "dtypes: float64(3), int64(2), object(3)\n",
      "memory usage: 15.1+ MB\n"
     ]
    }
   ],
   "source": [
    "data_info(df1)"
   ]
  },
  {
   "cell_type": "code",
   "execution_count": 21,
   "id": "7115d224",
   "metadata": {},
   "outputs": [
    {
     "data": {
      "text/html": [
       "<div>\n",
       "<style scoped>\n",
       "    .dataframe tbody tr th:only-of-type {\n",
       "        vertical-align: middle;\n",
       "    }\n",
       "\n",
       "    .dataframe tbody tr th {\n",
       "        vertical-align: top;\n",
       "    }\n",
       "\n",
       "    .dataframe thead th {\n",
       "        text-align: right;\n",
       "    }\n",
       "</style>\n",
       "<table border=\"1\" class=\"dataframe\">\n",
       "  <thead>\n",
       "    <tr style=\"text-align: right;\">\n",
       "      <th></th>\n",
       "      <th>client_id</th>\n",
       "      <th>s/n</th>\n",
       "      <th>depo</th>\n",
       "      <th>clicks</th>\n",
       "      <th>latency</th>\n",
       "    </tr>\n",
       "  </thead>\n",
       "  <tbody>\n",
       "    <tr>\n",
       "      <th>count</th>\n",
       "      <td>2.193140e+05</td>\n",
       "      <td>219314.000000</td>\n",
       "      <td>219314.000000</td>\n",
       "      <td>219314.000000</td>\n",
       "      <td>219314.000000</td>\n",
       "    </tr>\n",
       "    <tr>\n",
       "      <th>mean</th>\n",
       "      <td>4.992632e+06</td>\n",
       "      <td>65291.068518</td>\n",
       "      <td>21.349207</td>\n",
       "      <td>11.428190</td>\n",
       "      <td>3.022827</td>\n",
       "    </tr>\n",
       "    <tr>\n",
       "      <th>std</th>\n",
       "      <td>2.310152e+06</td>\n",
       "      <td>45165.661814</td>\n",
       "      <td>368.334720</td>\n",
       "      <td>12.627812</td>\n",
       "      <td>1.047155</td>\n",
       "    </tr>\n",
       "    <tr>\n",
       "      <th>min</th>\n",
       "      <td>1.000126e+06</td>\n",
       "      <td>0.000000</td>\n",
       "      <td>-164.000000</td>\n",
       "      <td>0.000000</td>\n",
       "      <td>0.000071</td>\n",
       "    </tr>\n",
       "    <tr>\n",
       "      <th>25%</th>\n",
       "      <td>2.989190e+06</td>\n",
       "      <td>27414.000000</td>\n",
       "      <td>0.000000</td>\n",
       "      <td>0.000000</td>\n",
       "      <td>2.323893</td>\n",
       "    </tr>\n",
       "    <tr>\n",
       "      <th>50%</th>\n",
       "      <td>4.987345e+06</td>\n",
       "      <td>54828.000000</td>\n",
       "      <td>0.000000</td>\n",
       "      <td>8.000000</td>\n",
       "      <td>3.004932</td>\n",
       "    </tr>\n",
       "    <tr>\n",
       "      <th>75%</th>\n",
       "      <td>6.994740e+06</td>\n",
       "      <td>102730.750000</td>\n",
       "      <td>0.000000</td>\n",
       "      <td>19.000000</td>\n",
       "      <td>3.691859</td>\n",
       "    </tr>\n",
       "    <tr>\n",
       "      <th>max</th>\n",
       "      <td>8.999961e+06</td>\n",
       "      <td>157559.000000</td>\n",
       "      <td>29527.000000</td>\n",
       "      <td>50.000000</td>\n",
       "      <td>11.016521</td>\n",
       "    </tr>\n",
       "  </tbody>\n",
       "</table>\n",
       "</div>"
      ],
      "text/plain": [
       "          client_id            s/n           depo         clicks  \\\n",
       "count  2.193140e+05  219314.000000  219314.000000  219314.000000   \n",
       "mean   4.992632e+06   65291.068518      21.349207      11.428190   \n",
       "std    2.310152e+06   45165.661814     368.334720      12.627812   \n",
       "min    1.000126e+06       0.000000    -164.000000       0.000000   \n",
       "25%    2.989190e+06   27414.000000       0.000000       0.000000   \n",
       "50%    4.987345e+06   54828.000000       0.000000       8.000000   \n",
       "75%    6.994740e+06  102730.750000       0.000000      19.000000   \n",
       "max    8.999961e+06  157559.000000   29527.000000      50.000000   \n",
       "\n",
       "             latency  \n",
       "count  219314.000000  \n",
       "mean        3.022827  \n",
       "std         1.047155  \n",
       "min         0.000071  \n",
       "25%         2.323893  \n",
       "50%         3.004932  \n",
       "75%         3.691859  \n",
       "max        11.016521  "
      ]
     },
     "execution_count": 21,
     "metadata": {},
     "output_type": "execute_result"
    }
   ],
   "source": [
    "data_description(df2)"
   ]
  },
  {
   "cell_type": "markdown",
   "id": "0ca095c7",
   "metadata": {},
   "source": [
    "Drop column unnamed and remove missing values (Since missing values makes 1% of the data)"
   ]
  },
  {
   "cell_type": "code",
   "execution_count": 20,
   "id": "adf3ae22",
   "metadata": {},
   "outputs": [
    {
     "data": {
      "text/html": [
       "<div>\n",
       "<style scoped>\n",
       "    .dataframe tbody tr th:only-of-type {\n",
       "        vertical-align: middle;\n",
       "    }\n",
       "\n",
       "    .dataframe tbody tr th {\n",
       "        vertical-align: top;\n",
       "    }\n",
       "\n",
       "    .dataframe thead th {\n",
       "        text-align: right;\n",
       "    }\n",
       "</style>\n",
       "<table border=\"1\" class=\"dataframe\">\n",
       "  <thead>\n",
       "    <tr style=\"text-align: right;\">\n",
       "      <th></th>\n",
       "      <th>country</th>\n",
       "      <th>client_id</th>\n",
       "      <th>s/n</th>\n",
       "      <th>depo</th>\n",
       "      <th>segment</th>\n",
       "      <th>channel</th>\n",
       "      <th>clicks</th>\n",
       "      <th>latency</th>\n",
       "    </tr>\n",
       "  </thead>\n",
       "  <tbody>\n",
       "    <tr>\n",
       "      <th>0</th>\n",
       "      <td>IN</td>\n",
       "      <td>6348826</td>\n",
       "      <td>135788</td>\n",
       "      <td>0.0</td>\n",
       "      <td>postid_2272</td>\n",
       "      <td>social media</td>\n",
       "      <td>22.0</td>\n",
       "      <td>3.571894</td>\n",
       "    </tr>\n",
       "    <tr>\n",
       "      <th>1</th>\n",
       "      <td>FR</td>\n",
       "      <td>6751691</td>\n",
       "      <td>30285</td>\n",
       "      <td>0.0</td>\n",
       "      <td>postid_275</td>\n",
       "      <td>smm</td>\n",
       "      <td>0.0</td>\n",
       "      <td>0.942220</td>\n",
       "    </tr>\n",
       "    <tr>\n",
       "      <th>2</th>\n",
       "      <td>FR</td>\n",
       "      <td>6751691</td>\n",
       "      <td>30285</td>\n",
       "      <td>0.0</td>\n",
       "      <td>postid_275</td>\n",
       "      <td>smm</td>\n",
       "      <td>0.0</td>\n",
       "      <td>0.942220</td>\n",
       "    </tr>\n",
       "    <tr>\n",
       "      <th>3</th>\n",
       "      <td>DE</td>\n",
       "      <td>8638448</td>\n",
       "      <td>99020</td>\n",
       "      <td>0.0</td>\n",
       "      <td>telegram</td>\n",
       "      <td>facebook</td>\n",
       "      <td>19.0</td>\n",
       "      <td>2.801449</td>\n",
       "    </tr>\n",
       "    <tr>\n",
       "      <th>4</th>\n",
       "      <td>LT</td>\n",
       "      <td>4722696</td>\n",
       "      <td>23716</td>\n",
       "      <td>307.0</td>\n",
       "      <td>telegram</td>\n",
       "      <td>social media</td>\n",
       "      <td>26.0</td>\n",
       "      <td>1.458857</td>\n",
       "    </tr>\n",
       "    <tr>\n",
       "      <th>...</th>\n",
       "      <td>...</td>\n",
       "      <td>...</td>\n",
       "      <td>...</td>\n",
       "      <td>...</td>\n",
       "      <td>...</td>\n",
       "      <td>...</td>\n",
       "      <td>...</td>\n",
       "      <td>...</td>\n",
       "    </tr>\n",
       "    <tr>\n",
       "      <th>219309</th>\n",
       "      <td>DE</td>\n",
       "      <td>2626295</td>\n",
       "      <td>64380</td>\n",
       "      <td>385.0</td>\n",
       "      <td>postid_9076</td>\n",
       "      <td>facebook</td>\n",
       "      <td>0.0</td>\n",
       "      <td>4.490812</td>\n",
       "    </tr>\n",
       "    <tr>\n",
       "      <th>219310</th>\n",
       "      <td>US</td>\n",
       "      <td>7817131</td>\n",
       "      <td>69527</td>\n",
       "      <td>0.0</td>\n",
       "      <td>telegram</td>\n",
       "      <td>smm</td>\n",
       "      <td>0.0</td>\n",
       "      <td>2.966362</td>\n",
       "    </tr>\n",
       "    <tr>\n",
       "      <th>219311</th>\n",
       "      <td>MO</td>\n",
       "      <td>1023767</td>\n",
       "      <td>112098</td>\n",
       "      <td>0.0</td>\n",
       "      <td>postid_7202</td>\n",
       "      <td>social media</td>\n",
       "      <td>3.0</td>\n",
       "      <td>3.704628</td>\n",
       "    </tr>\n",
       "    <tr>\n",
       "      <th>219312</th>\n",
       "      <td>MO</td>\n",
       "      <td>7518683</td>\n",
       "      <td>119055</td>\n",
       "      <td>0.0</td>\n",
       "      <td>postid_4200</td>\n",
       "      <td>smm</td>\n",
       "      <td>4.0</td>\n",
       "      <td>3.258969</td>\n",
       "    </tr>\n",
       "    <tr>\n",
       "      <th>219313</th>\n",
       "      <td>US</td>\n",
       "      <td>5408624</td>\n",
       "      <td>67671</td>\n",
       "      <td>0.0</td>\n",
       "      <td>postid_1085</td>\n",
       "      <td>smm</td>\n",
       "      <td>1.0</td>\n",
       "      <td>1.805891</td>\n",
       "    </tr>\n",
       "  </tbody>\n",
       "</table>\n",
       "<p>219314 rows × 8 columns</p>\n",
       "</div>"
      ],
      "text/plain": [
       "       country  client_id     s/n   depo      segment       channel  clicks  \\\n",
       "0           IN    6348826  135788    0.0  postid_2272  social media    22.0   \n",
       "1           FR    6751691   30285    0.0   postid_275           smm     0.0   \n",
       "2           FR    6751691   30285    0.0   postid_275           smm     0.0   \n",
       "3           DE    8638448   99020    0.0     telegram      facebook    19.0   \n",
       "4           LT    4722696   23716  307.0     telegram  social media    26.0   \n",
       "...        ...        ...     ...    ...          ...           ...     ...   \n",
       "219309      DE    2626295   64380  385.0  postid_9076      facebook     0.0   \n",
       "219310      US    7817131   69527    0.0     telegram           smm     0.0   \n",
       "219311      MO    1023767  112098    0.0  postid_7202  social media     3.0   \n",
       "219312      MO    7518683  119055    0.0  postid_4200           smm     4.0   \n",
       "219313      US    5408624   67671    0.0  postid_1085           smm     1.0   \n",
       "\n",
       "         latency  \n",
       "0       3.571894  \n",
       "1       0.942220  \n",
       "2       0.942220  \n",
       "3       2.801449  \n",
       "4       1.458857  \n",
       "...          ...  \n",
       "219309  4.490812  \n",
       "219310  2.966362  \n",
       "219311  3.704628  \n",
       "219312  3.258969  \n",
       "219313  1.805891  \n",
       "\n",
       "[219314 rows x 8 columns]"
      ]
     },
     "execution_count": 20,
     "metadata": {},
     "output_type": "execute_result"
    }
   ],
   "source": [
    "df2= df1.rename(columns={'Unnamed: 0' : 's/n'})\n",
    "df2"
   ]
  },
  {
   "cell_type": "markdown",
   "id": "e743702e",
   "metadata": {},
   "source": [
    "There are about 2249 data input missing in channel column amounting to about 1% of the total data. Dropping this rows will not have a huge effect on our data. So we drop empty rows.\n",
    "\n"
   ]
  },
  {
   "cell_type": "code",
   "execution_count": 23,
   "id": "948d59e8",
   "metadata": {},
   "outputs": [
    {
     "data": {
      "text/plain": [
       "0         135788\n",
       "1          30285\n",
       "2          30285\n",
       "3          99020\n",
       "4          23716\n",
       "           ...  \n",
       "219309     64380\n",
       "219310     69527\n",
       "219311    112098\n",
       "219312    119055\n",
       "219313     67671\n",
       "Name: s/n, Length: 219314, dtype: int64"
      ]
     },
     "execution_count": 23,
     "metadata": {},
     "output_type": "execute_result"
    }
   ],
   "source": [
    "df2[\"s/n\"]"
   ]
  },
  {
   "cell_type": "code",
   "execution_count": 5,
   "id": "11e0c493",
   "metadata": {},
   "outputs": [],
   "source": [
    "\n",
    "df1 = df1.drop([\"Unnamed: 0\"],axis=1)\n"
   ]
  },
  {
   "cell_type": "code",
   "execution_count": 6,
   "id": "727792be",
   "metadata": {},
   "outputs": [
    {
     "data": {
      "text/html": [
       "<div>\n",
       "<style scoped>\n",
       "    .dataframe tbody tr th:only-of-type {\n",
       "        vertical-align: middle;\n",
       "    }\n",
       "\n",
       "    .dataframe tbody tr th {\n",
       "        vertical-align: top;\n",
       "    }\n",
       "\n",
       "    .dataframe thead th {\n",
       "        text-align: right;\n",
       "    }\n",
       "</style>\n",
       "<table border=\"1\" class=\"dataframe\">\n",
       "  <thead>\n",
       "    <tr style=\"text-align: right;\">\n",
       "      <th></th>\n",
       "      <th>country</th>\n",
       "      <th>client_id</th>\n",
       "      <th>depo</th>\n",
       "      <th>segment</th>\n",
       "      <th>channel</th>\n",
       "      <th>clicks</th>\n",
       "      <th>latency</th>\n",
       "    </tr>\n",
       "  </thead>\n",
       "  <tbody>\n",
       "    <tr>\n",
       "      <th>0</th>\n",
       "      <td>IN</td>\n",
       "      <td>6348826</td>\n",
       "      <td>0.0</td>\n",
       "      <td>postid_2272</td>\n",
       "      <td>social media</td>\n",
       "      <td>22.0</td>\n",
       "      <td>3.571894</td>\n",
       "    </tr>\n",
       "    <tr>\n",
       "      <th>1</th>\n",
       "      <td>FR</td>\n",
       "      <td>6751691</td>\n",
       "      <td>0.0</td>\n",
       "      <td>postid_275</td>\n",
       "      <td>smm</td>\n",
       "      <td>0.0</td>\n",
       "      <td>0.942220</td>\n",
       "    </tr>\n",
       "    <tr>\n",
       "      <th>2</th>\n",
       "      <td>FR</td>\n",
       "      <td>6751691</td>\n",
       "      <td>0.0</td>\n",
       "      <td>postid_275</td>\n",
       "      <td>smm</td>\n",
       "      <td>0.0</td>\n",
       "      <td>0.942220</td>\n",
       "    </tr>\n",
       "    <tr>\n",
       "      <th>3</th>\n",
       "      <td>DE</td>\n",
       "      <td>8638448</td>\n",
       "      <td>0.0</td>\n",
       "      <td>telegram</td>\n",
       "      <td>facebook</td>\n",
       "      <td>19.0</td>\n",
       "      <td>2.801449</td>\n",
       "    </tr>\n",
       "    <tr>\n",
       "      <th>4</th>\n",
       "      <td>LT</td>\n",
       "      <td>4722696</td>\n",
       "      <td>307.0</td>\n",
       "      <td>telegram</td>\n",
       "      <td>social media</td>\n",
       "      <td>26.0</td>\n",
       "      <td>1.458857</td>\n",
       "    </tr>\n",
       "  </tbody>\n",
       "</table>\n",
       "</div>"
      ],
      "text/plain": [
       "  country  client_id   depo      segment       channel  clicks   latency\n",
       "0      IN    6348826    0.0  postid_2272  social media    22.0  3.571894\n",
       "1      FR    6751691    0.0   postid_275           smm     0.0  0.942220\n",
       "2      FR    6751691    0.0   postid_275           smm     0.0  0.942220\n",
       "3      DE    8638448    0.0     telegram      facebook    19.0  2.801449\n",
       "4      LT    4722696  307.0     telegram  social media    26.0  1.458857"
      ]
     },
     "execution_count": 6,
     "metadata": {},
     "output_type": "execute_result"
    }
   ],
   "source": [
    "df1.head()"
   ]
  },
  {
   "cell_type": "code",
   "execution_count": 22,
   "id": "43e265b3",
   "metadata": {},
   "outputs": [
    {
     "data": {
      "text/html": [
       "<div>\n",
       "<style scoped>\n",
       "    .dataframe tbody tr th:only-of-type {\n",
       "        vertical-align: middle;\n",
       "    }\n",
       "\n",
       "    .dataframe tbody tr th {\n",
       "        vertical-align: top;\n",
       "    }\n",
       "\n",
       "    .dataframe thead th {\n",
       "        text-align: right;\n",
       "    }\n",
       "</style>\n",
       "<table border=\"1\" class=\"dataframe\">\n",
       "  <thead>\n",
       "    <tr style=\"text-align: right;\">\n",
       "      <th></th>\n",
       "      <th>country</th>\n",
       "      <th>client_id</th>\n",
       "      <th>s/n</th>\n",
       "      <th>depo</th>\n",
       "      <th>segment</th>\n",
       "      <th>channel</th>\n",
       "      <th>clicks</th>\n",
       "      <th>latency</th>\n",
       "    </tr>\n",
       "  </thead>\n",
       "  <tbody>\n",
       "    <tr>\n",
       "      <th>Total</th>\n",
       "      <td>0</td>\n",
       "      <td>0</td>\n",
       "      <td>0</td>\n",
       "      <td>0</td>\n",
       "      <td>0</td>\n",
       "      <td>2249</td>\n",
       "      <td>0</td>\n",
       "      <td>0</td>\n",
       "    </tr>\n",
       "    <tr>\n",
       "      <th>Percent</th>\n",
       "      <td>0.0</td>\n",
       "      <td>0.0</td>\n",
       "      <td>0.0</td>\n",
       "      <td>0.0</td>\n",
       "      <td>0.0</td>\n",
       "      <td>1.02547</td>\n",
       "      <td>0.0</td>\n",
       "      <td>0.0</td>\n",
       "    </tr>\n",
       "    <tr>\n",
       "      <th>Types</th>\n",
       "      <td>object</td>\n",
       "      <td>int64</td>\n",
       "      <td>int64</td>\n",
       "      <td>float64</td>\n",
       "      <td>object</td>\n",
       "      <td>object</td>\n",
       "      <td>float64</td>\n",
       "      <td>float64</td>\n",
       "    </tr>\n",
       "  </tbody>\n",
       "</table>\n",
       "</div>"
      ],
      "text/plain": [
       "        country client_id    s/n     depo segment  channel   clicks  latency\n",
       "Total         0         0      0        0       0     2249        0        0\n",
       "Percent     0.0       0.0    0.0      0.0     0.0  1.02547      0.0      0.0\n",
       "Types    object     int64  int64  float64  object   object  float64  float64"
      ]
     },
     "execution_count": 22,
     "metadata": {},
     "output_type": "execute_result"
    }
   ],
   "source": [
    "missing_data(df2)"
   ]
  },
  {
   "cell_type": "code",
   "execution_count": 27,
   "id": "260f69d8",
   "metadata": {},
   "outputs": [
    {
     "name": "stdout",
     "output_type": "stream",
     "text": [
      "<class 'pandas.core.frame.DataFrame'>\n",
      "Int64Index: 217065 entries, 0 to 219313\n",
      "Data columns (total 7 columns):\n",
      " #   Column     Non-Null Count   Dtype  \n",
      "---  ------     --------------   -----  \n",
      " 0   country    217065 non-null  object \n",
      " 1   client_id  217065 non-null  int64  \n",
      " 2   depo       217065 non-null  float64\n",
      " 3   segment    217065 non-null  object \n",
      " 4   channel    217065 non-null  object \n",
      " 5   clicks     217065 non-null  float64\n",
      " 6   latency    217065 non-null  float64\n",
      "dtypes: float64(3), int64(1), object(3)\n",
      "memory usage: 13.2+ MB\n"
     ]
    }
   ],
   "source": [
    "df3 = df2.dropna()\n",
    "data_info(df3)"
   ]
  },
  {
   "cell_type": "markdown",
   "id": "24e7c5d2",
   "metadata": {},
   "source": [
    "Outliers"
   ]
  },
  {
   "cell_type": "markdown",
   "id": "337089d2",
   "metadata": {},
   "source": [
    "drop outlier in depo column"
   ]
  },
  {
   "cell_type": "code",
   "execution_count": 29,
   "id": "991ac7ee",
   "metadata": {},
   "outputs": [
    {
     "data": {
      "text/plain": [
       " 0.0        207122\n",
       " 304.0          42\n",
       " 241.0          38\n",
       " 296.0          36\n",
       " 340.0          36\n",
       "             ...  \n",
       " 13929.0         1\n",
       "-41.0            1\n",
       " 20478.0         1\n",
       " 828.0           1\n",
       " 679.0           1\n",
       "Name: depo, Length: 807, dtype: int64"
      ]
     },
     "execution_count": 29,
     "metadata": {},
     "output_type": "execute_result"
    }
   ],
   "source": [
    "df3['depo'].value_counts()"
   ]
  },
  {
   "cell_type": "code",
   "execution_count": 30,
   "id": "13ed3bb7",
   "metadata": {},
   "outputs": [
    {
     "data": {
      "text/plain": [
       "<AxesSubplot:xlabel='depo'>"
      ]
     },
     "execution_count": 30,
     "metadata": {},
     "output_type": "execute_result"
    },
    {
     "data": {
      "image/png": "[encoded data removed]",
      "text/plain": [
       "<Figure size 576x360 with 1 Axes>"
      ]
     },
     "metadata": {
      "needs_background": "light"
     },
     "output_type": "display_data"
    }
   ],
   "source": [
    "plt.figure(figsize=(8,5))\n",
    "sns.boxplot('depo',data=df3)"
   ]
  },
  {
   "cell_type": "markdown",
   "id": "b30df690",
   "metadata": {},
   "source": [
    "\n",
    "\n",
    "Numbers and location of outliers\n",
    "\n",
    "Negative payment is an outlier because deposit can not be credit but knowing the outliers for high range deposits is a bit difficult to determine. A mobile app can not be as expensive as 5000 dollars but information on this is not clear so i will assume a range of 0 (no deposit) to 3000 dollars. Any depo that falls out of this range is considered as outlier and will be removed. About 0.79% of our data is outlier following this range in deposit column making minimum deposit to be 0 and maximum to be 867 dollars with a mean around 14 dollars. The total number of outliers from depo is 2430 leads.\n",
    "\n",
    "The latency for the network has a mean around 3.2iseconds with a maximum of 11 miniseconds. This can also influence leads turning to clients.\n"
   ]
  },
  {
   "cell_type": "code",
   "execution_count": null,
   "id": "4ef6432b",
   "metadata": {},
   "outputs": [],
   "source": [
    "#we need to be careful at placing the higher bound as an individual can start with any amount of deposit, \n",
    "#since it is a trading app, not like they are paying for the mobile app."
   ]
  },
  {
   "cell_type": "code",
   "execution_count": 32,
   "id": "c59a640a",
   "metadata": {},
   "outputs": [
    {
     "name": "stdout",
     "output_type": "stream",
     "text": [
      "Percentage removed: 0.0799999999999983%\n"
     ]
    }
   ],
   "source": [
    "valid_depo = df3[df3['depo'].between(-1, 5000, inclusive=False)]\n",
    "\n",
    "valid_depo_count = valid_depo['depo'].count()\n",
    "data_count = df3['depo'].count()\n",
    "print('Percentage removed: ' + str(100 - round(valid_depo_count/data_count * 100, 2)) + '%')"
   ]
  },
  {
   "cell_type": "markdown",
   "id": "50fcdd50",
   "metadata": {},
   "source": [
    "segment"
   ]
  },
  {
   "cell_type": "code",
   "execution_count": 35,
   "id": "26e621d1",
   "metadata": {},
   "outputs": [],
   "source": [
    "import re\n",
    "replace = re.compile(\"([a-zA-Z]+)\")\n",
    "\n",
    "df3['segment_id'] = df3['segment'].str.extract(replace)\n",
    "df3['integer'] = df3['segment'].str.replace(replace, \"\")"
   ]
  },
  {
   "cell_type": "markdown",
   "id": "a5d7b2b1",
   "metadata": {},
   "source": [
    "Since ID number of post in segement column does not matter we need to remove the id by performing some data engineering.\n",
    "\n",
    "I decided to split the object_value in the segment column to interger and segment id. I will later drop the segment column and the interger column. Now we have a segment id that contains only classification objects."
   ]
  },
  {
   "cell_type": "code",
   "execution_count": 36,
   "id": "cdd44577",
   "metadata": {},
   "outputs": [
    {
     "data": {
      "text/html": [
       "<div>\n",
       "<style scoped>\n",
       "    .dataframe tbody tr th:only-of-type {\n",
       "        vertical-align: middle;\n",
       "    }\n",
       "\n",
       "    .dataframe tbody tr th {\n",
       "        vertical-align: top;\n",
       "    }\n",
       "\n",
       "    .dataframe thead th {\n",
       "        text-align: right;\n",
       "    }\n",
       "</style>\n",
       "<table border=\"1\" class=\"dataframe\">\n",
       "  <thead>\n",
       "    <tr style=\"text-align: right;\">\n",
       "      <th></th>\n",
       "      <th>country</th>\n",
       "      <th>client_id</th>\n",
       "      <th>depo</th>\n",
       "      <th>channel</th>\n",
       "      <th>clicks</th>\n",
       "      <th>latency</th>\n",
       "      <th>segment_id</th>\n",
       "    </tr>\n",
       "  </thead>\n",
       "  <tbody>\n",
       "    <tr>\n",
       "      <th>0</th>\n",
       "      <td>IN</td>\n",
       "      <td>6348826</td>\n",
       "      <td>0.0</td>\n",
       "      <td>social media</td>\n",
       "      <td>22.0</td>\n",
       "      <td>3.571894</td>\n",
       "      <td>postid</td>\n",
       "    </tr>\n",
       "    <tr>\n",
       "      <th>1</th>\n",
       "      <td>FR</td>\n",
       "      <td>6751691</td>\n",
       "      <td>0.0</td>\n",
       "      <td>smm</td>\n",
       "      <td>0.0</td>\n",
       "      <td>0.942220</td>\n",
       "      <td>postid</td>\n",
       "    </tr>\n",
       "    <tr>\n",
       "      <th>2</th>\n",
       "      <td>FR</td>\n",
       "      <td>6751691</td>\n",
       "      <td>0.0</td>\n",
       "      <td>smm</td>\n",
       "      <td>0.0</td>\n",
       "      <td>0.942220</td>\n",
       "      <td>postid</td>\n",
       "    </tr>\n",
       "    <tr>\n",
       "      <th>3</th>\n",
       "      <td>DE</td>\n",
       "      <td>8638448</td>\n",
       "      <td>0.0</td>\n",
       "      <td>facebook</td>\n",
       "      <td>19.0</td>\n",
       "      <td>2.801449</td>\n",
       "      <td>telegram</td>\n",
       "    </tr>\n",
       "    <tr>\n",
       "      <th>4</th>\n",
       "      <td>LT</td>\n",
       "      <td>4722696</td>\n",
       "      <td>307.0</td>\n",
       "      <td>social media</td>\n",
       "      <td>26.0</td>\n",
       "      <td>1.458857</td>\n",
       "      <td>telegram</td>\n",
       "    </tr>\n",
       "    <tr>\n",
       "      <th>...</th>\n",
       "      <td>...</td>\n",
       "      <td>...</td>\n",
       "      <td>...</td>\n",
       "      <td>...</td>\n",
       "      <td>...</td>\n",
       "      <td>...</td>\n",
       "      <td>...</td>\n",
       "    </tr>\n",
       "    <tr>\n",
       "      <th>219309</th>\n",
       "      <td>DE</td>\n",
       "      <td>2626295</td>\n",
       "      <td>385.0</td>\n",
       "      <td>facebook</td>\n",
       "      <td>0.0</td>\n",
       "      <td>4.490812</td>\n",
       "      <td>postid</td>\n",
       "    </tr>\n",
       "    <tr>\n",
       "      <th>219310</th>\n",
       "      <td>US</td>\n",
       "      <td>7817131</td>\n",
       "      <td>0.0</td>\n",
       "      <td>smm</td>\n",
       "      <td>0.0</td>\n",
       "      <td>2.966362</td>\n",
       "      <td>telegram</td>\n",
       "    </tr>\n",
       "    <tr>\n",
       "      <th>219311</th>\n",
       "      <td>MO</td>\n",
       "      <td>1023767</td>\n",
       "      <td>0.0</td>\n",
       "      <td>social media</td>\n",
       "      <td>3.0</td>\n",
       "      <td>3.704628</td>\n",
       "      <td>postid</td>\n",
       "    </tr>\n",
       "    <tr>\n",
       "      <th>219312</th>\n",
       "      <td>MO</td>\n",
       "      <td>7518683</td>\n",
       "      <td>0.0</td>\n",
       "      <td>smm</td>\n",
       "      <td>4.0</td>\n",
       "      <td>3.258969</td>\n",
       "      <td>postid</td>\n",
       "    </tr>\n",
       "    <tr>\n",
       "      <th>219313</th>\n",
       "      <td>US</td>\n",
       "      <td>5408624</td>\n",
       "      <td>0.0</td>\n",
       "      <td>smm</td>\n",
       "      <td>1.0</td>\n",
       "      <td>1.805891</td>\n",
       "      <td>postid</td>\n",
       "    </tr>\n",
       "  </tbody>\n",
       "</table>\n",
       "<p>217065 rows × 7 columns</p>\n",
       "</div>"
      ],
      "text/plain": [
       "       country  client_id   depo       channel  clicks   latency segment_id\n",
       "0           IN    6348826    0.0  social media    22.0  3.571894     postid\n",
       "1           FR    6751691    0.0           smm     0.0  0.942220     postid\n",
       "2           FR    6751691    0.0           smm     0.0  0.942220     postid\n",
       "3           DE    8638448    0.0      facebook    19.0  2.801449   telegram\n",
       "4           LT    4722696  307.0  social media    26.0  1.458857   telegram\n",
       "...        ...        ...    ...           ...     ...       ...        ...\n",
       "219309      DE    2626295  385.0      facebook     0.0  4.490812     postid\n",
       "219310      US    7817131    0.0           smm     0.0  2.966362   telegram\n",
       "219311      MO    1023767    0.0  social media     3.0  3.704628     postid\n",
       "219312      MO    7518683    0.0           smm     4.0  3.258969     postid\n",
       "219313      US    5408624    0.0           smm     1.0  1.805891     postid\n",
       "\n",
       "[217065 rows x 7 columns]"
      ]
     },
     "execution_count": 36,
     "metadata": {},
     "output_type": "execute_result"
    }
   ],
   "source": [
    "df4 = df3.drop(['integer', 'segment'], axis=1)\n",
    "df4"
   ]
  },
  {
   "cell_type": "code",
   "execution_count": 22,
   "id": "f1823e6b",
   "metadata": {},
   "outputs": [
    {
     "ename": "SyntaxError",
     "evalue": "invalid syntax (Temp/ipykernel_3952/1789503800.py, line 2)",
     "output_type": "error",
     "traceback": [
      "\u001b[1;36m  File \u001b[1;32m\"C:\\Users\\User\\AppData\\Local\\Temp/ipykernel_3952/1789503800.py\"\u001b[1;36m, line \u001b[1;32m2\u001b[0m\n\u001b[1;33m    check for missing values\u001b[0m\n\u001b[1;37m          ^\u001b[0m\n\u001b[1;31mSyntaxError\u001b[0m\u001b[1;31m:\u001b[0m invalid syntax\n"
     ]
    }
   ],
   "source": [
    "merge\n",
    "check for missing values\n",
    "check for outliers\n",
    "create some functions\n"
   ]
  },
  {
   "cell_type": "markdown",
   "id": "556365d8",
   "metadata": {},
   "source": [
    "# Exploratory Data Analysis"
   ]
  },
  {
   "cell_type": "markdown",
   "id": "b29ee428",
   "metadata": {},
   "source": [
    "The countries of the leads are basically in 3 continents, Europe with 7 countries followed by Asia with 3 countries. USA is the only country from North America. This shows that the app is not known at all in Africa, South America and so on. 11 countries in 3 continents.*USA, Germany, Spain, Iceland, Italy, France, India, Vietname, Luxembourg, Macao and Lithuania.*\n",
    "\n",
    "It seems the traffic from country are almost evenly. The traffic is not location biased. This could mean that the app is not language and weather biased too. Maybe it is age sensitive or sex biased. we will check this too. yet Germany have the highest traffic percent followed by Vietnam in Asia. Luxembourg has the lowest traffic percent.\n"
   ]
  },
  {
   "cell_type": "code",
   "execution_count": 37,
   "id": "cfc6dde7",
   "metadata": {},
   "outputs": [
    {
     "data": {
      "text/plain": [
       "DE    19992\n",
       "ES    19924\n",
       "US    19897\n",
       "IS    19797\n",
       "LT    19740\n",
       "FR    19719\n",
       "VN    19697\n",
       "MO    19656\n",
       "IT    19638\n",
       "IN    19636\n",
       "LU    19369\n",
       "Name: country, dtype: int64"
      ]
     },
     "execution_count": 37,
     "metadata": {},
     "output_type": "execute_result"
    }
   ],
   "source": [
    "df4['country'].value_counts()"
   ]
  },
  {
   "cell_type": "code",
   "execution_count": 38,
   "id": "1e3bf842",
   "metadata": {},
   "outputs": [],
   "source": [
    "def plot_count(feature, title, df, size=1):\n",
    "    f, ax = plt.subplots(1,1, figsize=(4*size,4))\n",
    "    total = float(len(df3))\n",
    "    g = sns.countplot(df['country'], order = df['country'].value_counts().index[:100], palette='Set3')\n",
    "    g.set_title(\"Number and percentage of {}\".format(title))\n",
    "    if(size > 2):\n",
    "        plt.xticks(rotation=90, size=8)\n",
    "    for p in ax.patches:\n",
    "        height = p.get_height()\n",
    "        ax.text(p.get_x()+p.get_width()/2.,\n",
    "                height + 3,\n",
    "                '{:1.2f}%'.format(100*height/total),\n",
    "                ha=\"center\") \n",
    "    plt.show() \n"
   ]
  },
  {
   "cell_type": "code",
   "execution_count": 40,
   "id": "d01333a6",
   "metadata": {},
   "outputs": [
    {
     "data": {
      "image/png": "[encoded data removed]",
      "text/plain": [
       "<Figure size 1152x288 with 1 Axes>"
      ]
     },
     "metadata": {
      "needs_background": "light"
     },
     "output_type": "display_data"
    }
   ],
   "source": [
    "plot_count('title', 'title (Country where mobile app is being used)', df4, size=4)\n",
    "\n"
   ]
  },
  {
   "cell_type": "code",
   "execution_count": null,
   "id": "f8887957",
   "metadata": {},
   "outputs": [],
   "source": [
    "#country with more depo ()  #visualise\n",
    "sns.lineplot(x = 'country', y = 'depo', data = df4)\n",
    " \n",
    "# Show the plot\n",
    "plt.show()"
   ]
  },
  {
   "cell_type": "code",
   "execution_count": 46,
   "id": "f719927d",
   "metadata": {},
   "outputs": [
    {
     "data": {
      "image/png": "[encoded data removed]",
      "text/plain": [
       "<Figure size 432x288 with 1 Axes>"
      ]
     },
     "metadata": {
      "needs_background": "light"
     },
     "output_type": "display_data"
    }
   ],
   "source": [
    "#country with fast latency #visualise\n",
    "sns.lineplot(x = 'country', y = 'latency', data = df4)\n",
    " \n",
    "# Show the plot\n",
    "plt.show()"
   ]
  },
  {
   "cell_type": "code",
   "execution_count": null,
   "id": "b15d2ee7",
   "metadata": {},
   "outputs": [],
   "source": [
    "sns.lineplot(df4['latency'])"
   ]
  },
  {
   "cell_type": "code",
   "execution_count": 41,
   "id": "1a344edd",
   "metadata": {},
   "outputs": [
    {
     "data": {
      "image/png": "[encoded data removed]",
      "text/plain": [
       "<Figure size 864x432 with 1 Axes>"
      ]
     },
     "metadata": {
      "needs_background": "light"
     },
     "output_type": "display_data"
    }
   ],
   "source": [
    "#country with segment  #visualise\n",
    "plt.figure(figsize=(12,6))\n",
    "sns.countplot(data=df4, x=\"country\", hue=\"segment_id\")\n",
    "plt.show()"
   ]
  },
  {
   "cell_type": "markdown",
   "id": "0d4729ff",
   "metadata": {},
   "source": [
    "across the countries post leads then telegram"
   ]
  },
  {
   "cell_type": "code",
   "execution_count": 42,
   "id": "5a9a01a8",
   "metadata": {},
   "outputs": [
    {
     "data": {
      "image/png": "[encoded data removed]",
      "text/plain": [
       "<Figure size 864x432 with 1 Axes>"
      ]
     },
     "metadata": {
      "needs_background": "light"
     },
     "output_type": "display_data"
    }
   ],
   "source": [
    "#country with channel  #visualise\n",
    "plt.figure(figsize=(12,6))\n",
    "sns.countplot(data=df4, x=\"country\", hue=\"channel\")\n",
    "plt.show()"
   ]
  },
  {
   "cell_type": "markdown",
   "id": "4d2e1992",
   "metadata": {},
   "source": [
    "facebook has the highest engagement across all the listed countries"
   ]
  },
  {
   "cell_type": "markdown",
   "id": "e921df8b",
   "metadata": {},
   "source": [
    "# Channels"
   ]
  },
  {
   "cell_type": "markdown",
   "id": "04a98f42",
   "metadata": {},
   "source": [
    " The channel column have 5 unique channels facebook, smm, social media, direct and affiliation. There are 5 main web traffic in which these list can fall into.\n",
    "\n",
    "    Paid web traffic: leads come from online adds on facebook, Google Ads etc. They found the app on ad ons.\n",
    "    Direct web traffic: leads come directly to the web by typing the web URL in the browser. They might have heard about the app from someone and they decide to visit directly (direct).\n",
    "    Referral web traffic: leads come through different links from other source. Affiliation falls in this category. Lead got to know through referrer.\n",
    "    Social web traffic: similar to Paid web traffic but here involves highly involved active subscribers of a platform such as youtube, instagram etc. A third party contractor will be needed. Social media channel falls into this category.\n",
    "    Organic traffic: leads come from search engines. The awarenesss maybe accidental. I Think smm falls in this class.\n",
    "\n",
    "\n"
   ]
  },
  {
   "cell_type": "code",
   "execution_count": null,
   "id": "1544a719",
   "metadata": {
    "scrolled": true
   },
   "outputs": [],
   "source": [
    "df3['channel'].value_counts()"
   ]
  },
  {
   "cell_type": "code",
   "execution_count": null,
   "id": "082d6042",
   "metadata": {},
   "outputs": [],
   "source": [
    "def plot_count(feature, title, df, size=1):\n",
    "    f, ax = plt.subplots(1,1, figsize=(4*size,4))\n",
    "    total = float(len(df3))\n",
    "    g = sns.countplot(df['channel'], order = df['channel'].value_counts().index[:100], palette='Set3')\n",
    "    g.set_title(\"Number and percentage of {}\".format(title))\n",
    "    if(size > 2):\n",
    "        plt.xticks(rotation=90, size=8)\n",
    "    for p in ax.patches:\n",
    "        height = p.get_height()\n",
    "        ax.text(p.get_x()+p.get_width()/2.,\n",
    "                height + 3,\n",
    "                '{:1.2f}%'.format(100*height/total),\n",
    "                ha=\"center\") \n",
    "    plt.show() "
   ]
  },
  {
   "cell_type": "markdown",
   "id": "b160ea3e",
   "metadata": {},
   "source": [
    "From the visualization the following can be concluded:\n",
    "\n",
    "    probably their marketing focused majorly on facebook ads and facebook platform users with approximately 36% leads.\n",
    "    the name of the mobile app could be a sort of generic common name that can easily be featured in any random search. we  will explore on this later.\n",
    "    the users of the app might actually love the app or comment about the app on their social media platforms thereby    increasing the app awareness in this channel. Since the main source of leads are from articles on internet. We will explore on this as well\n",
    "    less people refer leads to this app and there are less affiliates too. \n",
    "\n"
   ]
  },
  {
   "cell_type": "code",
   "execution_count": null,
   "id": "84521249",
   "metadata": {},
   "outputs": [],
   "source": [
    "channels_count = df3['channel'].value_counts().reset_index().rename(columns = {'index' : 'Labels'})\n",
    "channels_count"
   ]
  },
  {
   "cell_type": "code",
   "execution_count": null,
   "id": "e35481be",
   "metadata": {},
   "outputs": [],
   "source": [
    "plot_count('title', 'title (Channels to traffic)', df3, size=2)\n",
    "\n"
   ]
  },
  {
   "cell_type": "code",
   "execution_count": null,
   "id": "044b1a79",
   "metadata": {},
   "outputs": [],
   "source": [
    "channel vs latency#visualize\n",
    "x=channel  \n",
    "y = latency  hue= country or channel"
   ]
  },
  {
   "cell_type": "code",
   "execution_count": null,
   "id": "44feaffc",
   "metadata": {},
   "outputs": [],
   "source": [
    "channel vs latency#visualize\n",
    "x=channel  \n",
    "y = latency"
   ]
  },
  {
   "cell_type": "code",
   "execution_count": null,
   "id": "690b683d",
   "metadata": {},
   "outputs": [],
   "source": [
    "channel vs segment  #visualise"
   ]
  },
  {
   "cell_type": "markdown",
   "id": "d570f4d3",
   "metadata": {},
   "source": [
    "# Click"
   ]
  },
  {
   "cell_type": "code",
   "execution_count": null,
   "id": "27239392",
   "metadata": {},
   "outputs": [],
   "source": [
    "click with depo (client/lead) #visualize"
   ]
  },
  {
   "cell_type": "code",
   "execution_count": null,
   "id": "029da4aa",
   "metadata": {},
   "outputs": [],
   "source": [
    "clicks vs latency"
   ]
  },
  {
   "cell_type": "code",
   "execution_count": null,
   "id": "263df4f1",
   "metadata": {},
   "outputs": [],
   "source": [
    "explain result"
   ]
  },
  {
   "cell_type": "markdown",
   "id": "fa2ddbf6",
   "metadata": {},
   "source": [
    "# segment"
   ]
  },
  {
   "cell_type": "markdown",
   "id": "c594af87",
   "metadata": {},
   "source": [
    "\n",
    "\n",
    "The segment_id column contains only two unique values postid and telegaram. There are 155757 leads from article while 61308 leads are from telegram. It means the traffic to this app mainly comes from leads through Articles.\n",
    "\n",
    "This indicates that more awareness of the app is made on articles compare to telegram. That makes sense because people read more on the internet than on telegram these days.\n"
   ]
  },
  {
   "cell_type": "code",
   "execution_count": null,
   "id": "a0d501e3",
   "metadata": {},
   "outputs": [],
   "source": [
    "df3['segment_id'].value_counts()"
   ]
  },
  {
   "cell_type": "code",
   "execution_count": null,
   "id": "9c957b4a",
   "metadata": {},
   "outputs": [],
   "source": [
    "DF_1 = DF.copy() \n",
    "DF_1['client_status'] = DF_1['segment']                 ##creating new column for 'client_status' (as a copy of segment column)\n",
    "DF_1.loc[DF_1['depo'] > 0, 'client_status'] = 'Client'  ## \"CLIENTS\" are those who have registered and made a deposit \"depo>0\" \n",
    "DF_1.loc[DF_1['depo'] == 0, 'client_status'] = 'Lead'   ## \"LEAD\" are those who have registered and WITHOUT a deposit \"depo==0\" \n",
    "DF_1.loc[DF_1['segment'].str.contains('postid'), 'segment'] = 'post'  ##Replacing all entries with \"postID\" with \"post\" \n",
    "\n",
    "DF_1[['client_id','client_status','segment','channel','depo', 'clicks', 'latency', 'country',]]                                "
   ]
  },
  {
   "cell_type": "code",
   "execution_count": null,
   "id": "20053a28",
   "metadata": {},
   "outputs": [],
   "source": [
    "clientStatus_data = DF_1.groupby(['segment','client_status']).count()[['client_id']].reset_index()\n",
    "clientStatus_data = clientStatus_data.rename(columns={'client_id':'num_client_status'})\n",
    "clientStatus_data"
   ]
  },
  {
   "cell_type": "code",
   "execution_count": null,
   "id": "0826e97e",
   "metadata": {},
   "outputs": [],
   "source": [
    "clientStatus_data = DF_1.groupby(['segment','client_status']).count()[['client_id']].reset_index()\n",
    "clientStatus_data = clientStatus_data.rename(columns={'client_id':'num_client_status'})\n",
    "clientStatus_data"
   ]
  },
  {
   "cell_type": "code",
   "execution_count": null,
   "id": "4c43ce11",
   "metadata": {},
   "outputs": [],
   "source": []
  },
  {
   "cell_type": "code",
   "execution_count": null,
   "id": "6fbdaf99",
   "metadata": {},
   "outputs": [],
   "source": [
    "segment vs country #visualise"
   ]
  },
  {
   "cell_type": "code",
   "execution_count": null,
   "id": "e73bfffc",
   "metadata": {},
   "outputs": [],
   "source": [
    "segment vs channel #visualise"
   ]
  },
  {
   "cell_type": "code",
   "execution_count": null,
   "id": "cb20adeb",
   "metadata": {},
   "outputs": [],
   "source": [
    "count segment in channel #visualise"
   ]
  },
  {
   "cell_type": "code",
   "execution_count": null,
   "id": "c0926e26",
   "metadata": {},
   "outputs": [],
   "source": []
  },
  {
   "cell_type": "markdown",
   "id": "6555e7fd",
   "metadata": {},
   "source": [
    "# Data Engineering"
   ]
  },
  {
   "cell_type": "markdown",
   "id": "ada2a586",
   "metadata": {},
   "source": [
    "Both from histogram visualization, its been noticed that facebook have the highest channel to traffic by 76517 leads followed by smm and direct. Affiliation is having the lowest percentage of channel to traffic.\n",
    "\n",
    "\n",
    "\n"
   ]
  },
  {
   "cell_type": "code",
   "execution_count": null,
   "id": "b79107e2",
   "metadata": {},
   "outputs": [],
   "source": []
  },
  {
   "cell_type": "code",
   "execution_count": null,
   "id": "94f184e8",
   "metadata": {},
   "outputs": [],
   "source": []
  }
 ],
 "metadata": {
  "kernelspec": {
   "display_name": "Python 3 (ipykernel)",
   "language": "python",
   "name": "python3"
  },
  "language_info": {
   "codemirror_mode": {
    "name": "ipython",
    "version": 3
   },
   "file_extension": ".py",
   "mimetype": "text/x-python",
   "name": "python",
   "nbconvert_exporter": "python",
   "pygments_lexer": "ipython3",
   "version": "3.8.12"
  },
  "toc": {
   "base_numbering": 1,
   "nav_menu": {},
   "number_sections": true,
   "sideBar": true,
   "skip_h1_title": false,
   "title_cell": "Table of Contents",
   "title_sidebar": "Contents",
   "toc_cell": false,
   "toc_position": {},
   "toc_section_display": true,
   "toc_window_display": false
  }
 },
 "nbformat": 4,
 "nbformat_minor": 5
}
